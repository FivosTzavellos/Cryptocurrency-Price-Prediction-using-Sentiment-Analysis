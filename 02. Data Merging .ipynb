{
 "cells": [
  {
   "cell_type": "markdown",
   "metadata": {},
   "source": [
    "## Imports"
   ]
  },
  {
   "cell_type": "code",
   "execution_count": 1,
   "metadata": {
    "ExecuteTime": {
     "end_time": "2021-04-27T12:39:35.184743Z",
     "start_time": "2021-04-27T12:39:34.248052Z"
    }
   },
   "outputs": [],
   "source": [
    "import pandas as pd\n",
    "import glob\n",
    "import os\n",
    "import numpy as np\n",
    "import matplotlib.pyplot as plt\n",
    "from vaderSentiment.vaderSentiment import SentimentIntensityAnalyzer"
   ]
  },
  {
   "cell_type": "markdown",
   "metadata": {},
   "source": [
    "## File Processing"
   ]
  },
  {
   "cell_type": "markdown",
   "metadata": {
    "ExecuteTime": {
     "end_time": "2021-04-27T12:39:35.200245Z",
     "start_time": "2021-04-27T12:39:35.187744Z"
    }
   },
   "source": [
    "problems with the dataset to solve: <ul> \n",
    "<li> the Latin encoding makes some text appear gibberish </li>\n",
    "    <li> there is an extra column at the far left </li>"
   ]
  },
  {
   "cell_type": "markdown",
   "metadata": {},
   "source": [
    "We load each dataset and save it so we can process and append the data."
   ]
  },
  {
   "cell_type": "code",
   "execution_count": 3,
   "metadata": {
    "ExecuteTime": {
     "end_time": "2021-04-27T12:39:36.734638Z",
     "start_time": "2021-04-27T12:39:35.203746Z"
    }
   },
   "outputs": [],
   "source": [
    "file_1 = pd.read_csv(r'C:\\Users\\Fivos\\Desktop\\Πτυχιακή\\Data Collection\\twitter\\BTC\\bitcoin_tweets_notclean_Tue20-4_14h55m_Sun18-4_14h38m.csv')"
   ]
  },
  {
   "cell_type": "code",
   "execution_count": 4,
   "metadata": {
    "ExecuteTime": {
     "end_time": "2021-04-27T12:39:42.083104Z",
     "start_time": "2021-04-27T12:39:36.736138Z"
    }
   },
   "outputs": [],
   "source": [
    "file_2 =  pd.read_csv(r'C:\\Users\\Fivos\\Desktop\\Πτυχιακή\\Data Collection\\twitter\\BTC\\bitcoin_tweets_notclean_Mon19-4_21h39m_Sun11-4_19h49m.csv')"
   ]
  },
  {
   "cell_type": "code",
   "execution_count": 5,
   "metadata": {
    "ExecuteTime": {
     "end_time": "2021-04-27T12:39:42.997764Z",
     "start_time": "2021-04-27T12:39:42.085106Z"
    }
   },
   "outputs": [
    {
     "name": "stderr",
     "output_type": "stream",
     "text": [
      "C:\\Users\\Fivos\\anaconda3\\lib\\site-packages\\IPython\\core\\interactiveshell.py:3146: DtypeWarning: Columns (0,3,4,5) have mixed types.Specify dtype option on import or set low_memory=False.\n",
      "  has_raised = await self.run_ast_nodes(code_ast.body, cell_name,\n"
     ]
    }
   ],
   "source": [
    "file_3 = pd.read_csv(r'C:\\Users\\Fivos\\Desktop\\Πτυχιακή\\Data Collection\\twitter\\BTC\\bitcoin_tweets_notclean_Mon19-4_12h28m_Mon19-4_13h22m.csv')"
   ]
  },
  {
   "cell_type": "code",
   "execution_count": 6,
   "metadata": {
    "ExecuteTime": {
     "end_time": "2021-04-27T12:39:44.346499Z",
     "start_time": "2021-04-27T12:39:42.999764Z"
    }
   },
   "outputs": [],
   "source": [
    "file_4 = pd.read_csv(r'C:\\Users\\Fivos\\Desktop\\Πτυχιακή\\Data Collection\\twitter\\BTC\\bitcoin_tweets_notclean_Mon19-4_8h25m_Sat17-4_12h43m.csv')"
   ]
  },
  {
   "cell_type": "markdown",
   "metadata": {},
   "source": [
    "We encode into Latin to avoid an error"
   ]
  },
  {
   "cell_type": "code",
   "execution_count": 7,
   "metadata": {
    "ExecuteTime": {
     "end_time": "2021-04-27T12:39:46.020825Z",
     "start_time": "2021-04-27T12:39:44.347999Z"
    },
    "scrolled": true
   },
   "outputs": [],
   "source": [
    "file_5 = pd.read_csv(r'C:\\Users\\Fivos\\Desktop\\Πτυχιακή\\Data Collection\\twitter\\BTC\\bitcoin_tweets_notclean_Sun18-4_6h52m_Sat17-4_14h58m.csv',encoding = 'Latin')"
   ]
  },
  {
   "cell_type": "markdown",
   "metadata": {},
   "source": [
    "On file_5, every second row has NaN values so we remove those rows"
   ]
  },
  {
   "cell_type": "code",
   "execution_count": 8,
   "metadata": {
    "ExecuteTime": {
     "end_time": "2021-04-27T12:39:46.113824Z",
     "start_time": "2021-04-27T12:39:46.023827Z"
    }
   },
   "outputs": [],
   "source": [
    "file_5 = file_5[file_5['ID'].notna()]"
   ]
  },
  {
   "cell_type": "markdown",
   "metadata": {},
   "source": [
    "We deduce that the emojis play a bit part in calculating the sentiment score, so we want them displayed correctly"
   ]
  },
  {
   "cell_type": "code",
   "execution_count": 9,
   "metadata": {
    "ExecuteTime": {
     "end_time": "2021-04-27T12:39:46.144833Z",
     "start_time": "2021-04-27T12:39:46.116326Z"
    }
   },
   "outputs": [
    {
     "name": "stdout",
     "output_type": "stream",
     "text": [
      "Bitcoin is 🧡  --------------------------------------------------- {'neg': 0.0, 'neu': 0.417, 'pos': 0.583, 'compound': 0.6369}\n",
      "Bitcoin is ð§¡-------------------------------------------------- {'neg': 0.0, 'neu': 1.0, 'pos': 0.0, 'compound': 0.0}\n"
     ]
    }
   ],
   "source": [
    "sentences = ['Bitcoin is 🧡  ',\n",
    "            'Bitcoin is ð\\x9f§¡']\n",
    "\n",
    "analyzer = SentimentIntensityAnalyzer()\n",
    "for sentence in sentences:\n",
    "    vs = analyzer.polarity_scores(sentence)\n",
    "    print(\"{:-<65} {}\".format(sentence, str(vs)))"
   ]
  },
  {
   "cell_type": "code",
   "execution_count": 10,
   "metadata": {
    "ExecuteTime": {
     "end_time": "2021-04-27T12:39:46.206536Z",
     "start_time": "2021-04-27T12:39:46.146334Z"
    }
   },
   "outputs": [
    {
     "data": {
      "text/html": [
       "<div>\n",
       "<style scoped>\n",
       "    .dataframe tbody tr th:only-of-type {\n",
       "        vertical-align: middle;\n",
       "    }\n",
       "\n",
       "    .dataframe tbody tr th {\n",
       "        vertical-align: top;\n",
       "    }\n",
       "\n",
       "    .dataframe thead th {\n",
       "        text-align: right;\n",
       "    }\n",
       "</style>\n",
       "<table border=\"1\" class=\"dataframe\">\n",
       "  <thead>\n",
       "    <tr style=\"text-align: right;\">\n",
       "      <th></th>\n",
       "      <th>ID</th>\n",
       "      <th>Text</th>\n",
       "      <th>UserName</th>\n",
       "      <th>UserFollowerCount</th>\n",
       "      <th>RetweetCount</th>\n",
       "      <th>Likes</th>\n",
       "      <th>CreatedAt</th>\n",
       "    </tr>\n",
       "  </thead>\n",
       "  <tbody>\n",
       "    <tr>\n",
       "      <th>0</th>\n",
       "      <td>1.383670e+18</td>\n",
       "      <td>RT @justinsuntron: #TRX now is the most active...</td>\n",
       "      <td>Marcxelo ð ð</td>\n",
       "      <td>529.0</td>\n",
       "      <td>89.0</td>\n",
       "      <td>0.0</td>\n",
       "      <td>Sun Apr 18 06:52:28 +0000 2021</td>\n",
       "    </tr>\n",
       "    <tr>\n",
       "      <th>1</th>\n",
       "      <td>1.383670e+18</td>\n",
       "      <td>RT @Bitboy_Crypto: #Bitcoin just making sure e...</td>\n",
       "      <td>Dave</td>\n",
       "      <td>225.0</td>\n",
       "      <td>211.0</td>\n",
       "      <td>0.0</td>\n",
       "      <td>Sun Apr 18 06:52:27 +0000 2021</td>\n",
       "    </tr>\n",
       "    <tr>\n",
       "      <th>2</th>\n",
       "      <td>1.383670e+18</td>\n",
       "      <td>RT @justinsuntron: #TRX now is the most active...</td>\n",
       "      <td>Ã¶nder eseroÄlu</td>\n",
       "      <td>2.0</td>\n",
       "      <td>89.0</td>\n",
       "      <td>0.0</td>\n",
       "      <td>Sun Apr 18 06:52:27 +0000 2021</td>\n",
       "    </tr>\n",
       "    <tr>\n",
       "      <th>3</th>\n",
       "      <td>1.383670e+18</td>\n",
       "      <td>RT @Investingcom: *BITCOIN SINKS 15% IN WEEKEN...</td>\n",
       "      <td>alop</td>\n",
       "      <td>48.0</td>\n",
       "      <td>102.0</td>\n",
       "      <td>0.0</td>\n",
       "      <td>Sun Apr 18 06:52:27 +0000 2021</td>\n",
       "    </tr>\n",
       "    <tr>\n",
       "      <th>4</th>\n",
       "      <td>1.383670e+18</td>\n",
       "      <td>RT @Sweepsgg: Iâm giving $100 to one lucky f...</td>\n",
       "      <td>Reyshilog #BRG</td>\n",
       "      <td>30.0</td>\n",
       "      <td>1522.0</td>\n",
       "      <td>0.0</td>\n",
       "      <td>Sun Apr 18 06:52:26 +0000 2021</td>\n",
       "    </tr>\n",
       "    <tr>\n",
       "      <th>...</th>\n",
       "      <td>...</td>\n",
       "      <td>...</td>\n",
       "      <td>...</td>\n",
       "      <td>...</td>\n",
       "      <td>...</td>\n",
       "      <td>...</td>\n",
       "      <td>...</td>\n",
       "    </tr>\n",
       "    <tr>\n",
       "      <th>524282</th>\n",
       "      <td>1.383430e+18</td>\n",
       "      <td>Check out this #NFT for sale on Mintable! Pick...</td>\n",
       "      <td>Ã¼mitksyr</td>\n",
       "      <td>62.0</td>\n",
       "      <td>0.0</td>\n",
       "      <td>1.0</td>\n",
       "      <td>Sat Apr 17 14:58:33 +0000 2021</td>\n",
       "    </tr>\n",
       "    <tr>\n",
       "      <th>524283</th>\n",
       "      <td>1.383430e+18</td>\n",
       "      <td>@robert_spalding The reality is,we have trilli...</td>\n",
       "      <td>ð¹ð¼é½å¿ç¿ ä¹ ð¹ð¼</td>\n",
       "      <td>45.0</td>\n",
       "      <td>1.0</td>\n",
       "      <td>0.0</td>\n",
       "      <td>Sat Apr 17 14:58:33 +0000 2021</td>\n",
       "    </tr>\n",
       "    <tr>\n",
       "      <th>524284</th>\n",
       "      <td>1.383430e+18</td>\n",
       "      <td>RT @chowcollection: Super excited to start thi...</td>\n",
       "      <td>Cedric Youngelman #TwoPointOneQuadrillion</td>\n",
       "      <td>4405.0</td>\n",
       "      <td>6.0</td>\n",
       "      <td>0.0</td>\n",
       "      <td>Sat Apr 17 14:58:33 +0000 2021</td>\n",
       "    </tr>\n",
       "    <tr>\n",
       "      <th>524285</th>\n",
       "      <td>1.383430e+18</td>\n",
       "      <td>RT @minereumtoken: MINEREUM V2 IS NOW LIVE! ht...</td>\n",
       "      <td>THIÃN CÆ</td>\n",
       "      <td>69.0</td>\n",
       "      <td>5279.0</td>\n",
       "      <td>0.0</td>\n",
       "      <td>Sat Apr 17 14:58:33 +0000 2021</td>\n",
       "    </tr>\n",
       "    <tr>\n",
       "      <th>524286</th>\n",
       "      <td>1.383430e+18</td>\n",
       "      <td>@Mq2Oco Both are interesting! Ideally Iâm lo...</td>\n",
       "      <td>Diana Biggs</td>\n",
       "      <td>11416.0</td>\n",
       "      <td>0.0</td>\n",
       "      <td>1.0</td>\n",
       "      <td>Sat Apr 17 14:58:32 +0000 2021</td>\n",
       "    </tr>\n",
       "  </tbody>\n",
       "</table>\n",
       "<p>524287 rows × 7 columns</p>\n",
       "</div>"
      ],
      "text/plain": [
       "                  ID                                               Text  \\\n",
       "0       1.383670e+18  RT @justinsuntron: #TRX now is the most active...   \n",
       "1       1.383670e+18  RT @Bitboy_Crypto: #Bitcoin just making sure e...   \n",
       "2       1.383670e+18  RT @justinsuntron: #TRX now is the most active...   \n",
       "3       1.383670e+18  RT @Investingcom: *BITCOIN SINKS 15% IN WEEKEN...   \n",
       "4       1.383670e+18  RT @Sweepsgg: Iâm giving $100 to one lucky f...   \n",
       "...              ...                                                ...   \n",
       "524282  1.383430e+18  Check out this #NFT for sale on Mintable! Pick...   \n",
       "524283  1.383430e+18  @robert_spalding The reality is,we have trilli...   \n",
       "524284  1.383430e+18  RT @chowcollection: Super excited to start thi...   \n",
       "524285  1.383430e+18  RT @minereumtoken: MINEREUM V2 IS NOW LIVE! ht...   \n",
       "524286  1.383430e+18  @Mq2Oco Both are interesting! Ideally Iâm lo...   \n",
       "\n",
       "                                         UserName  UserFollowerCount  \\\n",
       "0                              Marcxelo ð ð              529.0   \n",
       "1                                            Dave              225.0   \n",
       "2                                Ã¶nder eseroÄlu                2.0   \n",
       "3                                            alop               48.0   \n",
       "4                                  Reyshilog #BRG               30.0   \n",
       "...                                           ...                ...   \n",
       "524282                                  Ã¼mitksyr               62.0   \n",
       "524283               ð¹ð¼é½å¿ç¿ ä¹ ð¹ð¼               45.0   \n",
       "524284  Cedric Youngelman #TwoPointOneQuadrillion             4405.0   \n",
       "524285                                 THIÃN CÆ                69.0   \n",
       "524286                                Diana Biggs            11416.0   \n",
       "\n",
       "        RetweetCount  Likes                       CreatedAt  \n",
       "0               89.0    0.0  Sun Apr 18 06:52:28 +0000 2021  \n",
       "1              211.0    0.0  Sun Apr 18 06:52:27 +0000 2021  \n",
       "2               89.0    0.0  Sun Apr 18 06:52:27 +0000 2021  \n",
       "3              102.0    0.0  Sun Apr 18 06:52:27 +0000 2021  \n",
       "4             1522.0    0.0  Sun Apr 18 06:52:26 +0000 2021  \n",
       "...              ...    ...                             ...  \n",
       "524282           0.0    1.0  Sat Apr 17 14:58:33 +0000 2021  \n",
       "524283           1.0    0.0  Sat Apr 17 14:58:33 +0000 2021  \n",
       "524284           6.0    0.0  Sat Apr 17 14:58:33 +0000 2021  \n",
       "524285        5279.0    0.0  Sat Apr 17 14:58:33 +0000 2021  \n",
       "524286           0.0    1.0  Sat Apr 17 14:58:32 +0000 2021  \n",
       "\n",
       "[524287 rows x 7 columns]"
      ]
     },
     "execution_count": 10,
     "metadata": {},
     "output_type": "execute_result"
    }
   ],
   "source": [
    "file_5 = file_5.reset_index(drop=True)\n",
    "file_5"
   ]
  },
  {
   "cell_type": "markdown",
   "metadata": {},
   "source": [
    "We change the encoding to display emojis correctly"
   ]
  },
  {
   "cell_type": "code",
   "execution_count": 11,
   "metadata": {
    "ExecuteTime": {
     "end_time": "2021-04-27T13:54:41.792190Z",
     "start_time": "2021-04-27T12:39:46.208037Z"
    }
   },
   "outputs": [
    {
     "name": "stderr",
     "output_type": "stream",
     "text": [
      "<ipython-input-11-17c9725ab310>:3: SettingWithCopyWarning: \n",
      "A value is trying to be set on a copy of a slice from a DataFrame\n",
      "\n",
      "See the caveats in the documentation: https://pandas.pydata.org/pandas-docs/stable/user_guide/indexing.html#returning-a-view-versus-a-copy\n",
      "  file_5['Text'][i] = file_5['Text'][i].encode('latin-1','ignore').decode('unicode-escape','ignore').encode('latin-1','ignore').decode('utf-8','ignore')\n",
      "<ipython-input-11-17c9725ab310>:3: DeprecationWarning: invalid escape sequence '\\_'\n",
      "  file_5['Text'][i] = file_5['Text'][i].encode('latin-1','ignore').decode('unicode-escape','ignore').encode('latin-1','ignore').decode('utf-8','ignore')\n",
      "<ipython-input-11-17c9725ab310>:3: DeprecationWarning: invalid escape sequence '\\ '\n",
      "  file_5['Text'][i] = file_5['Text'][i].encode('latin-1','ignore').decode('unicode-escape','ignore').encode('latin-1','ignore').decode('utf-8','ignore')\n",
      "<ipython-input-11-17c9725ab310>:3: DeprecationWarning: invalid escape sequence '\\#'\n",
      "  file_5['Text'][i] = file_5['Text'][i].encode('latin-1','ignore').decode('unicode-escape','ignore').encode('latin-1','ignore').decode('utf-8','ignore')\n",
      "<ipython-input-11-17c9725ab310>:3: DeprecationWarning: invalid escape sequence '\\@'\n",
      "  file_5['Text'][i] = file_5['Text'][i].encode('latin-1','ignore').decode('unicode-escape','ignore').encode('latin-1','ignore').decode('utf-8','ignore')\n",
      "<ipython-input-11-17c9725ab310>:3: DeprecationWarning: invalid escape sequence '\\ð'\n",
      "  file_5['Text'][i] = file_5['Text'][i].encode('latin-1','ignore').decode('unicode-escape','ignore').encode('latin-1','ignore').decode('utf-8','ignore')\n",
      "<ipython-input-11-17c9725ab310>:3: DeprecationWarning: invalid escape sequence '\\/'\n",
      "  file_5['Text'][i] = file_5['Text'][i].encode('latin-1','ignore').decode('unicode-escape','ignore').encode('latin-1','ignore').decode('utf-8','ignore')\n",
      "<ipython-input-11-17c9725ab310>:3: DeprecationWarning: invalid escape sequence '\\,'\n",
      "  file_5['Text'][i] = file_5['Text'][i].encode('latin-1','ignore').decode('unicode-escape','ignore').encode('latin-1','ignore').decode('utf-8','ignore')\n",
      "<ipython-input-11-17c9725ab310>:3: DeprecationWarning: invalid escape sequence '\\B'\n",
      "  file_5['Text'][i] = file_5['Text'][i].encode('latin-1','ignore').decode('unicode-escape','ignore').encode('latin-1','ignore').decode('utf-8','ignore')\n"
     ]
    }
   ],
   "source": [
    "for i in range(1,len(file_5)):\n",
    "    file_5['Text'][i] = file_5['Text'][i].encode('latin-1','ignore').decode('unicode-escape','ignore').encode('latin-1','ignore').decode('utf-8','ignore')\n",
    "    #file_5['UserName'][i] = file_5['UserName'][i].encode('latin-1','ignore').decode('unicode-escape','ignore').encode('latin-1','ignore').decode('utf-8','ignore')"
   ]
  },
  {
   "cell_type": "code",
   "execution_count": 12,
   "metadata": {
    "ExecuteTime": {
     "end_time": "2021-04-27T13:54:41.823194Z",
     "start_time": "2021-04-27T13:54:41.795190Z"
    }
   },
   "outputs": [
    {
     "data": {
      "text/html": [
       "<div>\n",
       "<style scoped>\n",
       "    .dataframe tbody tr th:only-of-type {\n",
       "        vertical-align: middle;\n",
       "    }\n",
       "\n",
       "    .dataframe tbody tr th {\n",
       "        vertical-align: top;\n",
       "    }\n",
       "\n",
       "    .dataframe thead th {\n",
       "        text-align: right;\n",
       "    }\n",
       "</style>\n",
       "<table border=\"1\" class=\"dataframe\">\n",
       "  <thead>\n",
       "    <tr style=\"text-align: right;\">\n",
       "      <th></th>\n",
       "      <th>ID</th>\n",
       "      <th>Text</th>\n",
       "      <th>UserName</th>\n",
       "      <th>UserFollowerCount</th>\n",
       "      <th>RetweetCount</th>\n",
       "      <th>Likes</th>\n",
       "      <th>CreatedAt</th>\n",
       "    </tr>\n",
       "  </thead>\n",
       "  <tbody>\n",
       "    <tr>\n",
       "      <th>0</th>\n",
       "      <td>1.383670e+18</td>\n",
       "      <td>RT @justinsuntron: #TRX now is the most active...</td>\n",
       "      <td>Marcxelo ð ð</td>\n",
       "      <td>529.0</td>\n",
       "      <td>89.0</td>\n",
       "      <td>0.0</td>\n",
       "      <td>Sun Apr 18 06:52:28 +0000 2021</td>\n",
       "    </tr>\n",
       "    <tr>\n",
       "      <th>1</th>\n",
       "      <td>1.383670e+18</td>\n",
       "      <td>RT @Bitboy_Crypto: #Bitcoin just making sure e...</td>\n",
       "      <td>Dave</td>\n",
       "      <td>225.0</td>\n",
       "      <td>211.0</td>\n",
       "      <td>0.0</td>\n",
       "      <td>Sun Apr 18 06:52:27 +0000 2021</td>\n",
       "    </tr>\n",
       "    <tr>\n",
       "      <th>2</th>\n",
       "      <td>1.383670e+18</td>\n",
       "      <td>RT @justinsuntron: #TRX now is the most active...</td>\n",
       "      <td>Ã¶nder eseroÄlu</td>\n",
       "      <td>2.0</td>\n",
       "      <td>89.0</td>\n",
       "      <td>0.0</td>\n",
       "      <td>Sun Apr 18 06:52:27 +0000 2021</td>\n",
       "    </tr>\n",
       "    <tr>\n",
       "      <th>3</th>\n",
       "      <td>1.383670e+18</td>\n",
       "      <td>RT @Investingcom: *BITCOIN SINKS 15% IN WEEKEN...</td>\n",
       "      <td>alop</td>\n",
       "      <td>48.0</td>\n",
       "      <td>102.0</td>\n",
       "      <td>0.0</td>\n",
       "      <td>Sun Apr 18 06:52:27 +0000 2021</td>\n",
       "    </tr>\n",
       "    <tr>\n",
       "      <th>4</th>\n",
       "      <td>1.383670e+18</td>\n",
       "      <td>RT @Sweepsgg: I’m giving $100 to one lucky fol...</td>\n",
       "      <td>Reyshilog #BRG</td>\n",
       "      <td>30.0</td>\n",
       "      <td>1522.0</td>\n",
       "      <td>0.0</td>\n",
       "      <td>Sun Apr 18 06:52:26 +0000 2021</td>\n",
       "    </tr>\n",
       "    <tr>\n",
       "      <th>...</th>\n",
       "      <td>...</td>\n",
       "      <td>...</td>\n",
       "      <td>...</td>\n",
       "      <td>...</td>\n",
       "      <td>...</td>\n",
       "      <td>...</td>\n",
       "      <td>...</td>\n",
       "    </tr>\n",
       "    <tr>\n",
       "      <th>524282</th>\n",
       "      <td>1.383430e+18</td>\n",
       "      <td>Check out this #NFT for sale on Mintable! Pick...</td>\n",
       "      <td>Ã¼mitksyr</td>\n",
       "      <td>62.0</td>\n",
       "      <td>0.0</td>\n",
       "      <td>1.0</td>\n",
       "      <td>Sat Apr 17 14:58:33 +0000 2021</td>\n",
       "    </tr>\n",
       "    <tr>\n",
       "      <th>524283</th>\n",
       "      <td>1.383430e+18</td>\n",
       "      <td>@robert_spalding The reality is,we have trilli...</td>\n",
       "      <td>ð¹ð¼é½å¿ç¿ ä¹ ð¹ð¼</td>\n",
       "      <td>45.0</td>\n",
       "      <td>1.0</td>\n",
       "      <td>0.0</td>\n",
       "      <td>Sat Apr 17 14:58:33 +0000 2021</td>\n",
       "    </tr>\n",
       "    <tr>\n",
       "      <th>524284</th>\n",
       "      <td>1.383430e+18</td>\n",
       "      <td>RT @chowcollection: Super excited to start thi...</td>\n",
       "      <td>Cedric Youngelman #TwoPointOneQuadrillion</td>\n",
       "      <td>4405.0</td>\n",
       "      <td>6.0</td>\n",
       "      <td>0.0</td>\n",
       "      <td>Sat Apr 17 14:58:33 +0000 2021</td>\n",
       "    </tr>\n",
       "    <tr>\n",
       "      <th>524285</th>\n",
       "      <td>1.383430e+18</td>\n",
       "      <td>RT @minereumtoken: MINEREUM V2 IS NOW LIVE! ht...</td>\n",
       "      <td>THIÃN CÆ</td>\n",
       "      <td>69.0</td>\n",
       "      <td>5279.0</td>\n",
       "      <td>0.0</td>\n",
       "      <td>Sat Apr 17 14:58:33 +0000 2021</td>\n",
       "    </tr>\n",
       "    <tr>\n",
       "      <th>524286</th>\n",
       "      <td>1.383430e+18</td>\n",
       "      <td>@Mq2Oco Both are interesting! Ideally I’m look...</td>\n",
       "      <td>Diana Biggs</td>\n",
       "      <td>11416.0</td>\n",
       "      <td>0.0</td>\n",
       "      <td>1.0</td>\n",
       "      <td>Sat Apr 17 14:58:32 +0000 2021</td>\n",
       "    </tr>\n",
       "  </tbody>\n",
       "</table>\n",
       "<p>524287 rows × 7 columns</p>\n",
       "</div>"
      ],
      "text/plain": [
       "                  ID                                               Text  \\\n",
       "0       1.383670e+18  RT @justinsuntron: #TRX now is the most active...   \n",
       "1       1.383670e+18  RT @Bitboy_Crypto: #Bitcoin just making sure e...   \n",
       "2       1.383670e+18  RT @justinsuntron: #TRX now is the most active...   \n",
       "3       1.383670e+18  RT @Investingcom: *BITCOIN SINKS 15% IN WEEKEN...   \n",
       "4       1.383670e+18  RT @Sweepsgg: I’m giving $100 to one lucky fol...   \n",
       "...              ...                                                ...   \n",
       "524282  1.383430e+18  Check out this #NFT for sale on Mintable! Pick...   \n",
       "524283  1.383430e+18  @robert_spalding The reality is,we have trilli...   \n",
       "524284  1.383430e+18  RT @chowcollection: Super excited to start thi...   \n",
       "524285  1.383430e+18  RT @minereumtoken: MINEREUM V2 IS NOW LIVE! ht...   \n",
       "524286  1.383430e+18  @Mq2Oco Both are interesting! Ideally I’m look...   \n",
       "\n",
       "                                         UserName  UserFollowerCount  \\\n",
       "0                              Marcxelo ð ð              529.0   \n",
       "1                                            Dave              225.0   \n",
       "2                                Ã¶nder eseroÄlu                2.0   \n",
       "3                                            alop               48.0   \n",
       "4                                  Reyshilog #BRG               30.0   \n",
       "...                                           ...                ...   \n",
       "524282                                  Ã¼mitksyr               62.0   \n",
       "524283               ð¹ð¼é½å¿ç¿ ä¹ ð¹ð¼               45.0   \n",
       "524284  Cedric Youngelman #TwoPointOneQuadrillion             4405.0   \n",
       "524285                                 THIÃN CÆ                69.0   \n",
       "524286                                Diana Biggs            11416.0   \n",
       "\n",
       "        RetweetCount  Likes                       CreatedAt  \n",
       "0               89.0    0.0  Sun Apr 18 06:52:28 +0000 2021  \n",
       "1              211.0    0.0  Sun Apr 18 06:52:27 +0000 2021  \n",
       "2               89.0    0.0  Sun Apr 18 06:52:27 +0000 2021  \n",
       "3              102.0    0.0  Sun Apr 18 06:52:27 +0000 2021  \n",
       "4             1522.0    0.0  Sun Apr 18 06:52:26 +0000 2021  \n",
       "...              ...    ...                             ...  \n",
       "524282           0.0    1.0  Sat Apr 17 14:58:33 +0000 2021  \n",
       "524283           1.0    0.0  Sat Apr 17 14:58:33 +0000 2021  \n",
       "524284           6.0    0.0  Sat Apr 17 14:58:33 +0000 2021  \n",
       "524285        5279.0    0.0  Sat Apr 17 14:58:33 +0000 2021  \n",
       "524286           0.0    1.0  Sat Apr 17 14:58:32 +0000 2021  \n",
       "\n",
       "[524287 rows x 7 columns]"
      ]
     },
     "execution_count": 12,
     "metadata": {},
     "output_type": "execute_result"
    }
   ],
   "source": [
    "file_5"
   ]
  },
  {
   "cell_type": "code",
   "execution_count": 13,
   "metadata": {
    "ExecuteTime": {
     "end_time": "2021-04-27T13:54:45.993082Z",
     "start_time": "2021-04-27T13:54:41.825195Z"
    }
   },
   "outputs": [],
   "source": [
    "file_6 = pd.read_csv(r'C:\\Users\\Fivos\\Desktop\\Πτυχιακή\\Data Collection\\twitter\\BTC\\bitcoin_tweets_notclean_Sat10-4_9h01m_Sat3-4_1h0m.csv')"
   ]
  },
  {
   "cell_type": "code",
   "execution_count": 14,
   "metadata": {
    "ExecuteTime": {
     "end_time": "2021-04-27T13:54:50.225108Z",
     "start_time": "2021-04-27T13:54:45.996084Z"
    }
   },
   "outputs": [],
   "source": [
    "file_7 = pd.read_csv(r'C:\\Users\\Fivos\\Desktop\\Πτυχιακή\\Data Collection\\twitter\\BTC\\bitcoin_tweets_notclean_Sat3-4_9h01m_Fri26-3_15h0m.csv')"
   ]
  },
  {
   "cell_type": "code",
   "execution_count": 15,
   "metadata": {
    "ExecuteTime": {
     "end_time": "2021-04-27T13:54:55.092928Z",
     "start_time": "2021-04-27T13:54:50.228612Z"
    }
   },
   "outputs": [],
   "source": [
    "file_8 = pd.read_csv(r'C:\\Users\\Fivos\\Desktop\\Πτυχιακή\\Data Collection\\twitter\\BTC\\bitcoin_tweets_notclean_Sun28-3_8h_26m_Sat20-3_18h17m.csv')"
   ]
  },
  {
   "cell_type": "code",
   "execution_count": 16,
   "metadata": {
    "ExecuteTime": {
     "end_time": "2021-04-27T13:54:55.604329Z",
     "start_time": "2021-04-27T13:54:55.094430Z"
    }
   },
   "outputs": [],
   "source": [
    "file_9 = pd.read_csv(r'C:\\Users\\Fivos\\Desktop\\Πτυχιακή\\Data Collection\\twitter\\BTC\\bitcoin_tweets_notclean_Sun21-3_9h52m_Sat20-3_13h38m.csv')"
   ]
  },
  {
   "cell_type": "code",
   "execution_count": 17,
   "metadata": {
    "ExecuteTime": {
     "end_time": "2021-04-27T13:54:55.697052Z",
     "start_time": "2021-04-27T13:54:55.606331Z"
    }
   },
   "outputs": [],
   "source": [
    "file_10 = pd.read_csv(r'C:\\Users\\Fivos\\Desktop\\Πτυχιακή\\Data Collection\\twitter\\BTC\\bitcoin_tweets_notclean_Sat20-3_13h27m_Sat20-3_10h48m.csv')"
   ]
  },
  {
   "cell_type": "markdown",
   "metadata": {},
   "source": [
    "## Merging"
   ]
  },
  {
   "cell_type": "code",
   "execution_count": 18,
   "metadata": {
    "ExecuteTime": {
     "end_time": "2021-04-27T13:54:55.712554Z",
     "start_time": "2021-04-27T13:54:55.698552Z"
    }
   },
   "outputs": [],
   "source": [
    "frames = [file_1, file_2,file_3, file_4,file_5,file_6, file_7,file_8, file_9,file_10]"
   ]
  },
  {
   "cell_type": "code",
   "execution_count": 19,
   "metadata": {
    "ExecuteTime": {
     "end_time": "2021-04-27T13:54:59.454452Z",
     "start_time": "2021-04-27T13:54:55.714553Z"
    }
   },
   "outputs": [
    {
     "data": {
      "text/html": [
       "<div>\n",
       "<style scoped>\n",
       "    .dataframe tbody tr th:only-of-type {\n",
       "        vertical-align: middle;\n",
       "    }\n",
       "\n",
       "    .dataframe tbody tr th {\n",
       "        vertical-align: top;\n",
       "    }\n",
       "\n",
       "    .dataframe thead th {\n",
       "        text-align: right;\n",
       "    }\n",
       "</style>\n",
       "<table border=\"1\" class=\"dataframe\">\n",
       "  <thead>\n",
       "    <tr style=\"text-align: right;\">\n",
       "      <th></th>\n",
       "      <th>ID</th>\n",
       "      <th>Text</th>\n",
       "      <th>UserName</th>\n",
       "      <th>UserFollowerCount</th>\n",
       "      <th>RetweetCount</th>\n",
       "      <th>Likes</th>\n",
       "      <th>CreatedAt</th>\n",
       "    </tr>\n",
       "  </thead>\n",
       "  <tbody>\n",
       "    <tr>\n",
       "      <th>0</th>\n",
       "      <td>1384521088089079808</td>\n",
       "      <td>$CELOLatest add into my portfolio is #celo.We ...</td>\n",
       "      <td>Siho</td>\n",
       "      <td>146</td>\n",
       "      <td>0</td>\n",
       "      <td>0</td>\n",
       "      <td>Tue Apr 20 14:55:25 +0000 2021</td>\n",
       "    </tr>\n",
       "    <tr>\n",
       "      <th>1</th>\n",
       "      <td>1384521088038752257</td>\n",
       "      <td>*3IQ DIGITAL ASSET MGMT TO LIST BITCOIN FUND O...</td>\n",
       "      <td>sellvolbuytesla</td>\n",
       "      <td>603</td>\n",
       "      <td>0</td>\n",
       "      <td>0</td>\n",
       "      <td>Tue Apr 20 14:55:25 +0000 2021</td>\n",
       "    </tr>\n",
       "    <tr>\n",
       "      <th>2</th>\n",
       "      <td>1384521087912927234</td>\n",
       "      <td>Bitcoin keeps getting rejected from many trend...</td>\n",
       "      <td>Crypto Bible</td>\n",
       "      <td>36798</td>\n",
       "      <td>0</td>\n",
       "      <td>0</td>\n",
       "      <td>Tue Apr 20 14:55:25 +0000 2021</td>\n",
       "    </tr>\n",
       "    <tr>\n",
       "      <th>3</th>\n",
       "      <td>1384521087057203201</td>\n",
       "      <td>RT @michael_saylor: #Bitcoin on Venmo for 70 m...</td>\n",
       "      <td>cjglory</td>\n",
       "      <td>525</td>\n",
       "      <td>1141</td>\n",
       "      <td>0</td>\n",
       "      <td>Tue Apr 20 14:55:24 +0000 2021</td>\n",
       "    </tr>\n",
       "    <tr>\n",
       "      <th>4</th>\n",
       "      <td>1384521086369476609</td>\n",
       "      <td>Tue Apr 20 16:54:13 2021 (30:40)USD : 55,462.7...</td>\n",
       "      <td>Block Watcher</td>\n",
       "      <td>909</td>\n",
       "      <td>0</td>\n",
       "      <td>0</td>\n",
       "      <td>Tue Apr 20 14:55:24 +0000 2021</td>\n",
       "    </tr>\n",
       "    <tr>\n",
       "      <th>...</th>\n",
       "      <td>...</td>\n",
       "      <td>...</td>\n",
       "      <td>...</td>\n",
       "      <td>...</td>\n",
       "      <td>...</td>\n",
       "      <td>...</td>\n",
       "      <td>...</td>\n",
       "    </tr>\n",
       "    <tr>\n",
       "      <th>23990</th>\n",
       "      <td>1373225012459671554</td>\n",
       "      <td>Current #Bitcoin Price: $58,990.52 📉</td>\n",
       "      <td>Bitcoin Price Hourly</td>\n",
       "      <td>171</td>\n",
       "      <td>0</td>\n",
       "      <td>0</td>\n",
       "      <td>Sat Mar 20 10:48:50 +0000 2021</td>\n",
       "    </tr>\n",
       "    <tr>\n",
       "      <th>23991</th>\n",
       "      <td>1373225011268313089</td>\n",
       "      <td>RT @Sweepsgg: I’m giving $100 to one lucky fol...</td>\n",
       "      <td>loreyn</td>\n",
       "      <td>1065</td>\n",
       "      <td>1381</td>\n",
       "      <td>0</td>\n",
       "      <td>Sat Mar 20 10:48:50 +0000 2021</td>\n",
       "    </tr>\n",
       "    <tr>\n",
       "      <th>23992</th>\n",
       "      <td>1373225006176600065</td>\n",
       "      <td>@familymoneysave And nice to see you mention b...</td>\n",
       "      <td>CutTheCrapInvesting</td>\n",
       "      <td>4172</td>\n",
       "      <td>0</td>\n",
       "      <td>0</td>\n",
       "      <td>Sat Mar 20 10:48:49 +0000 2021</td>\n",
       "    </tr>\n",
       "    <tr>\n",
       "      <th>23993</th>\n",
       "      <td>1373225003924131842</td>\n",
       "      <td>So far so good. Next target would be 9.2usd, a...</td>\n",
       "      <td>Name cannot be blank</td>\n",
       "      <td>52</td>\n",
       "      <td>0</td>\n",
       "      <td>0</td>\n",
       "      <td>Sat Mar 20 10:48:48 +0000 2021</td>\n",
       "    </tr>\n",
       "    <tr>\n",
       "      <th>23994</th>\n",
       "      <td>1373225003924131842</td>\n",
       "      <td>So far so good. Next target would be 9.2usd, a...</td>\n",
       "      <td>Name cannot be blank</td>\n",
       "      <td>52</td>\n",
       "      <td>0</td>\n",
       "      <td>0</td>\n",
       "      <td>Sat Mar 20 10:48:48 +0000 2021</td>\n",
       "    </tr>\n",
       "  </tbody>\n",
       "</table>\n",
       "<p>9082199 rows × 7 columns</p>\n",
       "</div>"
      ],
      "text/plain": [
       "                        ID                                               Text  \\\n",
       "0      1384521088089079808  $CELOLatest add into my portfolio is #celo.We ...   \n",
       "1      1384521088038752257  *3IQ DIGITAL ASSET MGMT TO LIST BITCOIN FUND O...   \n",
       "2      1384521087912927234  Bitcoin keeps getting rejected from many trend...   \n",
       "3      1384521087057203201  RT @michael_saylor: #Bitcoin on Venmo for 70 m...   \n",
       "4      1384521086369476609  Tue Apr 20 16:54:13 2021 (30:40)USD : 55,462.7...   \n",
       "...                    ...                                                ...   \n",
       "23990  1373225012459671554               Current #Bitcoin Price: $58,990.52 📉   \n",
       "23991  1373225011268313089  RT @Sweepsgg: I’m giving $100 to one lucky fol...   \n",
       "23992  1373225006176600065  @familymoneysave And nice to see you mention b...   \n",
       "23993  1373225003924131842  So far so good. Next target would be 9.2usd, a...   \n",
       "23994  1373225003924131842  So far so good. Next target would be 9.2usd, a...   \n",
       "\n",
       "                   UserName UserFollowerCount RetweetCount Likes  \\\n",
       "0                      Siho               146            0     0   \n",
       "1           sellvolbuytesla               603            0     0   \n",
       "2              Crypto Bible             36798            0     0   \n",
       "3                   cjglory               525         1141     0   \n",
       "4             Block Watcher               909            0     0   \n",
       "...                     ...               ...          ...   ...   \n",
       "23990  Bitcoin Price Hourly               171            0     0   \n",
       "23991                loreyn              1065         1381     0   \n",
       "23992   CutTheCrapInvesting              4172            0     0   \n",
       "23993  Name cannot be blank                52            0     0   \n",
       "23994  Name cannot be blank                52            0     0   \n",
       "\n",
       "                            CreatedAt  \n",
       "0      Tue Apr 20 14:55:25 +0000 2021  \n",
       "1      Tue Apr 20 14:55:25 +0000 2021  \n",
       "2      Tue Apr 20 14:55:25 +0000 2021  \n",
       "3      Tue Apr 20 14:55:24 +0000 2021  \n",
       "4      Tue Apr 20 14:55:24 +0000 2021  \n",
       "...                               ...  \n",
       "23990  Sat Mar 20 10:48:50 +0000 2021  \n",
       "23991  Sat Mar 20 10:48:50 +0000 2021  \n",
       "23992  Sat Mar 20 10:48:49 +0000 2021  \n",
       "23993  Sat Mar 20 10:48:48 +0000 2021  \n",
       "23994  Sat Mar 20 10:48:48 +0000 2021  \n",
       "\n",
       "[9082199 rows x 7 columns]"
      ]
     },
     "execution_count": 19,
     "metadata": {},
     "output_type": "execute_result"
    }
   ],
   "source": [
    "results_with_dupl = pd.concat(frames)\n",
    "results_with_dupl"
   ]
  },
  {
   "cell_type": "code",
   "execution_count": 26,
   "metadata": {
    "ExecuteTime": {
     "end_time": "2021-04-27T14:04:37.986427Z",
     "start_time": "2021-04-27T14:04:18.458967Z"
    }
   },
   "outputs": [
    {
     "data": {
      "text/html": [
       "<div>\n",
       "<style scoped>\n",
       "    .dataframe tbody tr th:only-of-type {\n",
       "        vertical-align: middle;\n",
       "    }\n",
       "\n",
       "    .dataframe tbody tr th {\n",
       "        vertical-align: top;\n",
       "    }\n",
       "\n",
       "    .dataframe thead th {\n",
       "        text-align: right;\n",
       "    }\n",
       "</style>\n",
       "<table border=\"1\" class=\"dataframe\">\n",
       "  <thead>\n",
       "    <tr style=\"text-align: right;\">\n",
       "      <th></th>\n",
       "      <th>ID</th>\n",
       "      <th>Text</th>\n",
       "      <th>UserName</th>\n",
       "      <th>UserFollowerCount</th>\n",
       "      <th>RetweetCount</th>\n",
       "      <th>Likes</th>\n",
       "      <th>CreatedAt</th>\n",
       "    </tr>\n",
       "  </thead>\n",
       "  <tbody>\n",
       "    <tr>\n",
       "      <th>0</th>\n",
       "      <td>1384521088089079808</td>\n",
       "      <td>$CELOLatest add into my portfolio is #celo.We ...</td>\n",
       "      <td>Siho</td>\n",
       "      <td>146</td>\n",
       "      <td>0</td>\n",
       "      <td>0</td>\n",
       "      <td>Tue Apr 20 14:55:25 +0000 2021</td>\n",
       "    </tr>\n",
       "    <tr>\n",
       "      <th>1</th>\n",
       "      <td>1384521088038752257</td>\n",
       "      <td>*3IQ DIGITAL ASSET MGMT TO LIST BITCOIN FUND O...</td>\n",
       "      <td>sellvolbuytesla</td>\n",
       "      <td>603</td>\n",
       "      <td>0</td>\n",
       "      <td>0</td>\n",
       "      <td>Tue Apr 20 14:55:25 +0000 2021</td>\n",
       "    </tr>\n",
       "    <tr>\n",
       "      <th>2</th>\n",
       "      <td>1384521087912927234</td>\n",
       "      <td>Bitcoin keeps getting rejected from many trend...</td>\n",
       "      <td>Crypto Bible</td>\n",
       "      <td>36798</td>\n",
       "      <td>0</td>\n",
       "      <td>0</td>\n",
       "      <td>Tue Apr 20 14:55:25 +0000 2021</td>\n",
       "    </tr>\n",
       "    <tr>\n",
       "      <th>3</th>\n",
       "      <td>1384521087057203201</td>\n",
       "      <td>RT @michael_saylor: #Bitcoin on Venmo for 70 m...</td>\n",
       "      <td>cjglory</td>\n",
       "      <td>525</td>\n",
       "      <td>1141</td>\n",
       "      <td>0</td>\n",
       "      <td>Tue Apr 20 14:55:24 +0000 2021</td>\n",
       "    </tr>\n",
       "    <tr>\n",
       "      <th>4</th>\n",
       "      <td>1384521086369476609</td>\n",
       "      <td>Tue Apr 20 16:54:13 2021 (30:40)USD : 55,462.7...</td>\n",
       "      <td>Block Watcher</td>\n",
       "      <td>909</td>\n",
       "      <td>0</td>\n",
       "      <td>0</td>\n",
       "      <td>Tue Apr 20 14:55:24 +0000 2021</td>\n",
       "    </tr>\n",
       "    <tr>\n",
       "      <th>...</th>\n",
       "      <td>...</td>\n",
       "      <td>...</td>\n",
       "      <td>...</td>\n",
       "      <td>...</td>\n",
       "      <td>...</td>\n",
       "      <td>...</td>\n",
       "      <td>...</td>\n",
       "    </tr>\n",
       "    <tr>\n",
       "      <th>9082194</th>\n",
       "      <td>1373225012459671554</td>\n",
       "      <td>Current #Bitcoin Price: $58,990.52 📉</td>\n",
       "      <td>Bitcoin Price Hourly</td>\n",
       "      <td>171</td>\n",
       "      <td>0</td>\n",
       "      <td>0</td>\n",
       "      <td>Sat Mar 20 10:48:50 +0000 2021</td>\n",
       "    </tr>\n",
       "    <tr>\n",
       "      <th>9082195</th>\n",
       "      <td>1373225011268313089</td>\n",
       "      <td>RT @Sweepsgg: I’m giving $100 to one lucky fol...</td>\n",
       "      <td>loreyn</td>\n",
       "      <td>1065</td>\n",
       "      <td>1381</td>\n",
       "      <td>0</td>\n",
       "      <td>Sat Mar 20 10:48:50 +0000 2021</td>\n",
       "    </tr>\n",
       "    <tr>\n",
       "      <th>9082196</th>\n",
       "      <td>1373225006176600065</td>\n",
       "      <td>@familymoneysave And nice to see you mention b...</td>\n",
       "      <td>CutTheCrapInvesting</td>\n",
       "      <td>4172</td>\n",
       "      <td>0</td>\n",
       "      <td>0</td>\n",
       "      <td>Sat Mar 20 10:48:49 +0000 2021</td>\n",
       "    </tr>\n",
       "    <tr>\n",
       "      <th>9082197</th>\n",
       "      <td>1373225003924131842</td>\n",
       "      <td>So far so good. Next target would be 9.2usd, a...</td>\n",
       "      <td>Name cannot be blank</td>\n",
       "      <td>52</td>\n",
       "      <td>0</td>\n",
       "      <td>0</td>\n",
       "      <td>Sat Mar 20 10:48:48 +0000 2021</td>\n",
       "    </tr>\n",
       "    <tr>\n",
       "      <th>9082198</th>\n",
       "      <td>1373225003924131842</td>\n",
       "      <td>So far so good. Next target would be 9.2usd, a...</td>\n",
       "      <td>Name cannot be blank</td>\n",
       "      <td>52</td>\n",
       "      <td>0</td>\n",
       "      <td>0</td>\n",
       "      <td>Sat Mar 20 10:48:48 +0000 2021</td>\n",
       "    </tr>\n",
       "  </tbody>\n",
       "</table>\n",
       "<p>9082199 rows × 7 columns</p>\n",
       "</div>"
      ],
      "text/plain": [
       "                          ID  \\\n",
       "0        1384521088089079808   \n",
       "1        1384521088038752257   \n",
       "2        1384521087912927234   \n",
       "3        1384521087057203201   \n",
       "4        1384521086369476609   \n",
       "...                      ...   \n",
       "9082194  1373225012459671554   \n",
       "9082195  1373225011268313089   \n",
       "9082196  1373225006176600065   \n",
       "9082197  1373225003924131842   \n",
       "9082198  1373225003924131842   \n",
       "\n",
       "                                                      Text  \\\n",
       "0        $CELOLatest add into my portfolio is #celo.We ...   \n",
       "1        *3IQ DIGITAL ASSET MGMT TO LIST BITCOIN FUND O...   \n",
       "2        Bitcoin keeps getting rejected from many trend...   \n",
       "3        RT @michael_saylor: #Bitcoin on Venmo for 70 m...   \n",
       "4        Tue Apr 20 16:54:13 2021 (30:40)USD : 55,462.7...   \n",
       "...                                                    ...   \n",
       "9082194               Current #Bitcoin Price: $58,990.52 📉   \n",
       "9082195  RT @Sweepsgg: I’m giving $100 to one lucky fol...   \n",
       "9082196  @familymoneysave And nice to see you mention b...   \n",
       "9082197  So far so good. Next target would be 9.2usd, a...   \n",
       "9082198  So far so good. Next target would be 9.2usd, a...   \n",
       "\n",
       "                     UserName UserFollowerCount RetweetCount Likes  \\\n",
       "0                        Siho               146            0     0   \n",
       "1             sellvolbuytesla               603            0     0   \n",
       "2                Crypto Bible             36798            0     0   \n",
       "3                     cjglory               525         1141     0   \n",
       "4               Block Watcher               909            0     0   \n",
       "...                       ...               ...          ...   ...   \n",
       "9082194  Bitcoin Price Hourly               171            0     0   \n",
       "9082195                loreyn              1065         1381     0   \n",
       "9082196   CutTheCrapInvesting              4172            0     0   \n",
       "9082197  Name cannot be blank                52            0     0   \n",
       "9082198  Name cannot be blank                52            0     0   \n",
       "\n",
       "                              CreatedAt  \n",
       "0        Tue Apr 20 14:55:25 +0000 2021  \n",
       "1        Tue Apr 20 14:55:25 +0000 2021  \n",
       "2        Tue Apr 20 14:55:25 +0000 2021  \n",
       "3        Tue Apr 20 14:55:24 +0000 2021  \n",
       "4        Tue Apr 20 14:55:24 +0000 2021  \n",
       "...                                 ...  \n",
       "9082194  Sat Mar 20 10:48:50 +0000 2021  \n",
       "9082195  Sat Mar 20 10:48:50 +0000 2021  \n",
       "9082196  Sat Mar 20 10:48:49 +0000 2021  \n",
       "9082197  Sat Mar 20 10:48:48 +0000 2021  \n",
       "9082198  Sat Mar 20 10:48:48 +0000 2021  \n",
       "\n",
       "[9082199 rows x 7 columns]"
      ]
     },
     "execution_count": 26,
     "metadata": {},
     "output_type": "execute_result"
    }
   ],
   "source": [
    "results_with_dupl = results_with_dupl.reset_index(drop=True)\n",
    "results_with_dupl"
   ]
  },
  {
   "cell_type": "code",
   "execution_count": 27,
   "metadata": {
    "ExecuteTime": {
     "end_time": "2021-04-27T14:06:43.883986Z",
     "start_time": "2021-04-27T14:05:22.064245Z"
    }
   },
   "outputs": [],
   "source": [
    "results_with_dupl.to_csv(r'C:\\Users\\Fivos\\Desktop\\Πτυχιακή\\Data Collection\\twitter\\results_with_dupl.csv')"
   ]
  }
 ],
 "metadata": {
  "kernelspec": {
   "display_name": "Python 3",
   "language": "python",
   "name": "python3"
  },
  "language_info": {
   "codemirror_mode": {
    "name": "ipython",
    "version": 3
   },
   "file_extension": ".py",
   "mimetype": "text/x-python",
   "name": "python",
   "nbconvert_exporter": "python",
   "pygments_lexer": "ipython3",
   "version": "3.8.5"
  },
  "toc": {
   "base_numbering": 1,
   "nav_menu": {},
   "number_sections": true,
   "sideBar": true,
   "skip_h1_title": false,
   "title_cell": "Table of Contents",
   "title_sidebar": "Contents",
   "toc_cell": false,
   "toc_position": {},
   "toc_section_display": true,
   "toc_window_display": false
  },
  "varInspector": {
   "cols": {
    "lenName": 16,
    "lenType": 16,
    "lenVar": 40
   },
   "kernels_config": {
    "python": {
     "delete_cmd_postfix": "",
     "delete_cmd_prefix": "del ",
     "library": "var_list.py",
     "varRefreshCmd": "print(var_dic_list())"
    },
    "r": {
     "delete_cmd_postfix": ") ",
     "delete_cmd_prefix": "rm(",
     "library": "var_list.r",
     "varRefreshCmd": "cat(var_dic_list()) "
    }
   },
   "types_to_exclude": [
    "module",
    "function",
    "builtin_function_or_method",
    "instance",
    "_Feature"
   ],
   "window_display": false
  }
 },
 "nbformat": 4,
 "nbformat_minor": 4
}
