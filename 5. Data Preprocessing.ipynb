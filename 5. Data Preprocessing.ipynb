{
 "cells": [
  {
   "cell_type": "markdown",
   "metadata": {},
   "source": [
    "## Imports"
   ]
  },
  {
   "cell_type": "code",
   "execution_count": 3,
   "metadata": {
    "ExecuteTime": {
     "end_time": "2021-08-10T11:11:12.580583Z",
     "start_time": "2021-08-10T11:11:09.438031Z"
    }
   },
   "outputs": [
    {
     "name": "stderr",
     "output_type": "stream",
     "text": [
      "[nltk_data] Downloading package words to\n",
      "[nltk_data]     C:\\Users\\Fivos\\AppData\\Roaming\\nltk_data...\n",
      "[nltk_data]   Package words is already up-to-date!\n",
      "[nltk_data] Downloading package stopwords to\n",
      "[nltk_data]     C:\\Users\\Fivos\\AppData\\Roaming\\nltk_data...\n",
      "[nltk_data]   Package stopwords is already up-to-date!\n",
      "[nltk_data] Downloading package punkt to\n",
      "[nltk_data]     C:\\Users\\Fivos\\AppData\\Roaming\\nltk_data...\n",
      "[nltk_data]   Package punkt is already up-to-date!\n"
     ]
    },
    {
     "data": {
      "text/plain": [
       "True"
      ]
     },
     "execution_count": 3,
     "metadata": {},
     "output_type": "execute_result"
    }
   ],
   "source": [
    "import pandas as pd\n",
    "from tqdm import tqdm\n",
    "import numpy as np\n",
    "from datetime import datetime\n",
    "import matplotlib.pyplot as plt\n",
    "from matplotlib.pyplot import figure\n",
    "import seaborn as sns\n",
    "from collections import Counter\n",
    "import re\n",
    "import nltk\n",
    "from nltk.corpus import stopwords\n",
    "from nltk import word_tokenize\n",
    "from nltk.util import ngrams\n",
    "from wordcloud import WordCloud, STOPWORDS\n",
    "import dateutil.parser as dparser\n",
    "import collections\n",
    "\n",
    "nltk.download('words')\n",
    "nltk.download('stopwords')\n",
    "nltk.download('punkt')"
   ]
  },
  {
   "cell_type": "markdown",
   "metadata": {},
   "source": [
    "## Preprocessing"
   ]
  },
  {
   "cell_type": "code",
   "execution_count": null,
   "metadata": {
    "ExecuteTime": {
     "start_time": "2021-05-18T07:44:56.562Z"
    }
   },
   "outputs": [],
   "source": [
    "tweets = pd.read_csv(r\"C:\\Users\\Fivos\\Desktop\\Πτυχιακή\\Data Collection\\twitter\\Results tweets\\results.csv\")"
   ]
  },
  {
   "cell_type": "code",
   "execution_count": 3,
   "metadata": {
    "ExecuteTime": {
     "end_time": "2021-05-01T07:45:56.548043Z",
     "start_time": "2021-05-01T07:45:51.543316Z"
    }
   },
   "outputs": [],
   "source": [
    "tweets = tweets.loc[:, ~tweets.columns.str.contains('^Unnamed')]\n",
    "tweets = tweets.dropna(how='any',axis=0) "
   ]
  },
  {
   "cell_type": "code",
   "execution_count": 96,
   "metadata": {
    "ExecuteTime": {
     "end_time": "2021-05-11T10:22:55.261709Z",
     "start_time": "2021-05-11T10:22:55.194104Z"
    }
   },
   "outputs": [
    {
     "data": {
      "text/plain": [
       "7089271"
      ]
     },
     "execution_count": 96,
     "metadata": {},
     "output_type": "execute_result"
    }
   ],
   "source": [
    "len(tweets)"
   ]
  },
  {
   "cell_type": "markdown",
   "metadata": {},
   "source": [
    "After manual inspection we saw that some cryptocurrency jargon like 'FOMO' ,ATH and HODL where not included in the \n",
    "nltk word corpus so we decided not to exclude every word that is not in the corpus, since we would be losing a lot of words that hold special sentiment value in this case"
   ]
  },
  {
   "cell_type": "code",
   "execution_count": 6,
   "metadata": {
    "ExecuteTime": {
     "end_time": "2021-04-14T08:46:17.140263Z",
     "start_time": "2021-04-14T08:46:16.980507Z"
    }
   },
   "outputs": [],
   "source": [
    "words = set(nltk.corpus.words.words())\n",
    "if 'FOMO' in words:\n",
    "    print('Yes')"
   ]
  },
  {
   "cell_type": "code",
   "execution_count": null,
   "metadata": {},
   "outputs": [],
   "source": [
    "english_vocab = set(w.lower() for w in nltk.corpus.words.words())\n",
    "for i in long_string.split():\n",
    "    if i not in english_vocab:\n",
    "        print(i)"
   ]
  },
  {
   "cell_type": "code",
   "execution_count": 7,
   "metadata": {
    "ExecuteTime": {
     "end_time": "2021-04-14T08:47:22.317462Z",
     "start_time": "2021-04-14T08:47:22.305460Z"
    }
   },
   "outputs": [
    {
     "data": {
      "text/plain": [
       "235892"
      ]
     },
     "execution_count": 7,
     "metadata": {},
     "output_type": "execute_result"
    }
   ],
   "source": [
    "len(words)"
   ]
  },
  {
   "cell_type": "markdown",
   "metadata": {},
   "source": [
    "We compiled a list of cryptocurrency specific terminology - slang and checked to see if these terms exist in the tweets we scraped"
   ]
  },
  {
   "cell_type": "code",
   "execution_count": 18,
   "metadata": {
    "ExecuteTime": {
     "end_time": "2021-04-15T09:25:50.937223Z",
     "start_time": "2021-04-15T09:25:50.929722Z"
    }
   },
   "outputs": [
    {
     "name": "stdout",
     "output_type": "stream",
     "text": [
      "Yes\n"
     ]
    }
   ],
   "source": [
    "if 'moon' in long_string:\n",
    "    print('Yes')"
   ]
  },
  {
   "cell_type": "markdown",
   "metadata": {},
   "source": [
    "This list of contractions serves as a helper function so that vader can assign sentiment more easily"
   ]
  },
  {
   "cell_type": "code",
   "execution_count": 2,
   "metadata": {
    "ExecuteTime": {
     "end_time": "2021-07-11T12:19:52.207530Z",
     "start_time": "2021-07-11T12:19:52.196528Z"
    }
   },
   "outputs": [],
   "source": [
    "contractionsList = {\n",
    "  \"ain't\": \"am not\",\n",
    "  \"aren't\": \"are not\",\n",
    "  \"can't\": \"cannot\",\n",
    "  \"can't've\": \"cannot have\",\n",
    "  \"'cause\": \"because\",\n",
    "  \"could've\": \"could have\",\n",
    "  \"couldn't\": \"could not\",\n",
    "  \"couldn't've\": \"could not have\",\n",
    "  \"didn't\": \"did not\",\n",
    "  \"doesn't\": \"does not\",\n",
    "  \"don't\": \"do not\",\n",
    "  \"hadn't\": \"had not\",\n",
    "  \"hadn't've\": \"had not have\",\n",
    "  \"hasn't\": \"has not\",\n",
    "  \"haven't\": \"have not\",\n",
    "  \"he'd\": \"he would\",\n",
    "  \"he'd've\": \"he would have\",\n",
    "  \"he'll\": \"he will\",\n",
    "  \"he'll've\": \"he will have\",\n",
    "  \"he's\": \"he is\",\n",
    "  \"how'd\": \"how did\",\n",
    "  \"how'd'y\": \"how do you\",\n",
    "  \"how'll\": \"how will\",\n",
    "  \"how's\": \"how is\",\n",
    "  \"I'd\": \"I would\",\n",
    "  \"I'd've\": \"I would have\",\n",
    "  \"I'll\": \"I will\",\n",
    "  \"I'll've\": \"I will have\",\n",
    "  \"I'm\": \"I am\",\n",
    "  \"I've\": \"I have\",\n",
    "  \"isn't\": \"is not\",\n",
    "  \"it'd\": \"it had\",\n",
    "  \"it'd've\": \"it would have\",\n",
    "  \"it'll\": \"it will\",\n",
    "  \"it'll've\": \"it will have\",\n",
    "  \"it's\": \"it is\",\n",
    "  \"let's\": \"let us\",\n",
    "  \"ma'am\": \"madam\",\n",
    "  \"mayn't\": \"may not\",\n",
    "  \"might've\": \"might have\",\n",
    "  \"mightn't\": \"might not\",\n",
    "  \"mightn't've\": \"might not have\",\n",
    "  \"must've\": \"must have\",\n",
    "  \"mustn't\": \"must not\",\n",
    "  \"mustn't've\": \"must not have\",\n",
    "  \"needn't\": \"need not\",\n",
    "  \"needn't've\": \"need not have\",\n",
    "  \"o'clock\": \"of the clock\",\n",
    "  \"oughtn't\": \"ought not\",\n",
    "  \"oughtn't've\": \"ought not have\",\n",
    "  \"shan't\": \"shall not\",\n",
    "  \"sha'n't\": \"shall not\",\n",
    "  \"shan't've\": \"shall not have\",\n",
    "  \"she'd\": \"she would\",\n",
    "  \"she'd've\": \"she would have\",\n",
    "  \"she'll\": \"she will\",\n",
    "  \"she'll've\": \"she will have\",\n",
    "  \"she's\": \"she is\",\n",
    "  \"should've\": \"should have\",\n",
    "  \"shouldn't\": \"should not\",\n",
    "  \"shouldn't've\": \"should not have\",\n",
    "  \"so've\": \"so have\",\n",
    "  \"so's\": \"so is\",\n",
    "  \"that'd\": \"that would\",\n",
    "  \"that'd've\": \"that would have\",\n",
    "  \"that's\": \"that is\",\n",
    "  \"there'd\": \"there had\",\n",
    "  \"there'd've\": \"there would have\",\n",
    "  \"there's\": \"there is\",\n",
    "  \"they'd\": \"they would\",\n",
    "  \"they'd've\": \"they would have\",\n",
    "  \"they'll\": \"they will\",\n",
    "  \"they'll've\": \"they will have\",\n",
    "  \"they're\": \"they are\",\n",
    "  \"they've\": \"they have\",\n",
    "  \"to've\": \"to have\",\n",
    "  \"wasn't\": \"was not\",\n",
    "  \"we'd\": \"we had\",\n",
    "  \"we'd've\": \"we would have\",\n",
    "  \"we'll\": \"we will\",\n",
    "  \"we'll've\": \"we will have\",\n",
    "  \"we're\": \"we are\",\n",
    "  \"we've\": \"we have\",\n",
    "  \"weren't\": \"were not\",\n",
    "  \"what'll\": \"what will\",\n",
    "  \"what'll've\": \"what will have\",\n",
    "  \"what're\": \"what are\",\n",
    "  \"what's\": \"what is\",\n",
    "  \"what've\": \"what have\",\n",
    "  \"when's\": \"when is\",\n",
    "  \"when've\": \"when have\",\n",
    "  \"where'd\": \"where did\",\n",
    "  \"where's\": \"where is\",\n",
    "  \"where've\": \"where have\",\n",
    "  \"who'll\": \"who will\",\n",
    "  \"who'll've\": \"who will have\",\n",
    "  \"who's\": \"who is\",\n",
    "  \"who've\": \"who have\",\n",
    "  \"why's\": \"why is\",\n",
    "  \"why've\": \"why have\",\n",
    "  \"will've\": \"will have\",\n",
    "  \"won't\": \"will not\",\n",
    "  \"won't've\": \"will not have\",\n",
    "  \"would've\": \"would have\",\n",
    "  \"wouldn't\": \"would not\",\n",
    "  \"wouldn't've\": \"would not have\",\n",
    "  \"y'all\": \"you all\",\n",
    "  \"y'alls\": \"you alls\",\n",
    "  \"y'all'd\": \"you all would\",\n",
    "  \"y'all'd've\": \"you all would have\",\n",
    "  \"y'all're\": \"you all are\",\n",
    "  \"y'all've\": \"you all have\",\n",
    "  \"you'd\": \"you had\",\n",
    "  \"you'd've\": \"you would have\",\n",
    "  \"you'll\": \"you you will\",\n",
    "  \"you'll've\": \"you you will have\",\n",
    "  \"you're\": \"you are\",\n",
    "  \"you've\": \"you have\"\n",
    "}"
   ]
  },
  {
   "cell_type": "code",
   "execution_count": 3,
   "metadata": {
    "ExecuteTime": {
     "end_time": "2021-07-11T12:19:53.861377Z",
     "start_time": "2021-07-11T12:19:53.843374Z"
    }
   },
   "outputs": [],
   "source": [
    "#code source https://stackoverflow.com/a/19790352/15558553\n",
    "\n",
    "c_re = re.compile('(%s)' % '|'.join(contractionsList.keys()))\n",
    "\n",
    "def expandContractions(text, c_re=c_re):\n",
    "    def replace(match):\n",
    "        return contractionsList[match.group(0)]\n",
    "    return c_re.sub(replace, text)\n"
   ]
  },
  {
   "cell_type": "markdown",
   "metadata": {},
   "source": [
    "The function below reduces the consecutive characters to 3 when they are more than three (for example \"Let's goooooooo\" becomes \"Let's gooo\")"
   ]
  },
  {
   "cell_type": "code",
   "execution_count": 1,
   "metadata": {
    "ExecuteTime": {
     "end_time": "2021-08-10T11:10:25.399435Z",
     "start_time": "2021-08-10T11:10:25.381932Z"
    }
   },
   "outputs": [],
   "source": [
    "def reduce_chars(matchobj):\n",
    "    return 3*matchobj.group(0)[1]"
   ]
  },
  {
   "cell_type": "markdown",
   "metadata": {},
   "source": [
    "We run the preprocessing code for 10 days straight, reach about 60% and then pause it to save it and start again till the end"
   ]
  },
  {
   "cell_type": "code",
   "execution_count": 10,
   "metadata": {
    "ExecuteTime": {
     "end_time": "2021-05-11T08:05:09.416284Z",
     "start_time": "2021-05-01T07:48:59.409357Z"
    }
   },
   "outputs": [
    {
     "name": "stderr",
     "output_type": "stream",
     "text": [
      " 59%|█████████████████████████████████████▉                          | 4201446/7089271 [240:16:09<165:08:48,  4.86it/s]\n"
     ]
    },
    {
     "ename": "KeyboardInterrupt",
     "evalue": "",
     "output_type": "error",
     "traceback": [
      "\u001b[1;31m---------------------------------------------------------------------------\u001b[0m",
      "\u001b[1;31mKeyboardInterrupt\u001b[0m                         Traceback (most recent call last)",
      "\u001b[1;32m<ipython-input-10-8ed1dbd93ff1>\u001b[0m in \u001b[0;36m<module>\u001b[1;34m\u001b[0m\n\u001b[0;32m     19\u001b[0m         \u001b[1;32mfor\u001b[0m \u001b[0mw\u001b[0m \u001b[1;32min\u001b[0m \u001b[0mre\u001b[0m\u001b[1;33m.\u001b[0m\u001b[0mfindall\u001b[0m\u001b[1;33m(\u001b[0m\u001b[1;34mr'\\B#\\w*[a-zA-Z]+\\w*'\u001b[0m\u001b[1;33m,\u001b[0m \u001b[0mtext\u001b[0m\u001b[1;33m)\u001b[0m\u001b[1;33m:\u001b[0m \u001b[1;31m#if the hashtagged word exists in the nltk words corpus then remove the hashtag but keep the word, if it doesn't then remove the hashtagged word completely\u001b[0m\u001b[1;33m\u001b[0m\u001b[1;33m\u001b[0m\u001b[0m\n\u001b[0;32m     20\u001b[0m             \u001b[0mcheck\u001b[0m \u001b[1;33m=\u001b[0m \u001b[0mw\u001b[0m\u001b[1;33m.\u001b[0m\u001b[0mreplace\u001b[0m\u001b[1;33m(\u001b[0m\u001b[1;34m\"#\"\u001b[0m\u001b[1;33m,\u001b[0m \u001b[1;34m\"\"\u001b[0m\u001b[1;33m)\u001b[0m\u001b[1;33m\u001b[0m\u001b[1;33m\u001b[0m\u001b[0m\n\u001b[1;32m---> 21\u001b[1;33m             \u001b[1;32mif\u001b[0m \u001b[0mcheck\u001b[0m\u001b[1;33m.\u001b[0m\u001b[0mlower\u001b[0m \u001b[1;32mnot\u001b[0m \u001b[1;32min\u001b[0m \u001b[0mnltk\u001b[0m\u001b[1;33m.\u001b[0m\u001b[0mcorpus\u001b[0m\u001b[1;33m.\u001b[0m\u001b[0mwords\u001b[0m\u001b[1;33m.\u001b[0m\u001b[0mwords\u001b[0m\u001b[1;33m(\u001b[0m\u001b[1;33m)\u001b[0m\u001b[1;33m:\u001b[0m\u001b[1;33m\u001b[0m\u001b[1;33m\u001b[0m\u001b[0m\n\u001b[0m\u001b[0;32m     22\u001b[0m                 \u001b[0mtext\u001b[0m \u001b[1;33m=\u001b[0m \u001b[0mtext\u001b[0m\u001b[1;33m.\u001b[0m\u001b[0mreplace\u001b[0m\u001b[1;33m(\u001b[0m\u001b[0mw\u001b[0m\u001b[1;33m,\u001b[0m\u001b[1;34m''\u001b[0m\u001b[1;33m)\u001b[0m\u001b[1;33m\u001b[0m\u001b[1;33m\u001b[0m\u001b[0m\n\u001b[0;32m     23\u001b[0m         \u001b[0mtext\u001b[0m \u001b[1;33m=\u001b[0m \u001b[0mtext\u001b[0m\u001b[1;33m.\u001b[0m\u001b[0mreplace\u001b[0m\u001b[1;33m(\u001b[0m\u001b[1;34m'#'\u001b[0m\u001b[1;33m,\u001b[0m\u001b[1;34m''\u001b[0m\u001b[1;33m)\u001b[0m\u001b[1;33m\u001b[0m\u001b[1;33m\u001b[0m\u001b[0m\n",
      "\u001b[1;32m~\\anaconda3\\lib\\site-packages\\nltk\\corpus\\reader\\wordlist.py\u001b[0m in \u001b[0;36mwords\u001b[1;34m(self, fileids, ignore_lines_startswith)\u001b[0m\n\u001b[0;32m     19\u001b[0m \u001b[1;33m\u001b[0m\u001b[0m\n\u001b[0;32m     20\u001b[0m     \u001b[1;32mdef\u001b[0m \u001b[0mwords\u001b[0m\u001b[1;33m(\u001b[0m\u001b[0mself\u001b[0m\u001b[1;33m,\u001b[0m \u001b[0mfileids\u001b[0m\u001b[1;33m=\u001b[0m\u001b[1;32mNone\u001b[0m\u001b[1;33m,\u001b[0m \u001b[0mignore_lines_startswith\u001b[0m\u001b[1;33m=\u001b[0m\u001b[1;34m\"\\n\"\u001b[0m\u001b[1;33m)\u001b[0m\u001b[1;33m:\u001b[0m\u001b[1;33m\u001b[0m\u001b[1;33m\u001b[0m\u001b[0m\n\u001b[1;32m---> 21\u001b[1;33m         return [\n\u001b[0m\u001b[0;32m     22\u001b[0m             \u001b[0mline\u001b[0m\u001b[1;33m\u001b[0m\u001b[1;33m\u001b[0m\u001b[0m\n\u001b[0;32m     23\u001b[0m             \u001b[1;32mfor\u001b[0m \u001b[0mline\u001b[0m \u001b[1;32min\u001b[0m \u001b[0mline_tokenize\u001b[0m\u001b[1;33m(\u001b[0m\u001b[0mself\u001b[0m\u001b[1;33m.\u001b[0m\u001b[0mraw\u001b[0m\u001b[1;33m(\u001b[0m\u001b[0mfileids\u001b[0m\u001b[1;33m)\u001b[0m\u001b[1;33m)\u001b[0m\u001b[1;33m\u001b[0m\u001b[1;33m\u001b[0m\u001b[0m\n",
      "\u001b[1;32m~\\anaconda3\\lib\\site-packages\\nltk\\corpus\\reader\\wordlist.py\u001b[0m in \u001b[0;36m<listcomp>\u001b[1;34m(.0)\u001b[0m\n\u001b[0;32m     20\u001b[0m     \u001b[1;32mdef\u001b[0m \u001b[0mwords\u001b[0m\u001b[1;33m(\u001b[0m\u001b[0mself\u001b[0m\u001b[1;33m,\u001b[0m \u001b[0mfileids\u001b[0m\u001b[1;33m=\u001b[0m\u001b[1;32mNone\u001b[0m\u001b[1;33m,\u001b[0m \u001b[0mignore_lines_startswith\u001b[0m\u001b[1;33m=\u001b[0m\u001b[1;34m\"\\n\"\u001b[0m\u001b[1;33m)\u001b[0m\u001b[1;33m:\u001b[0m\u001b[1;33m\u001b[0m\u001b[1;33m\u001b[0m\u001b[0m\n\u001b[0;32m     21\u001b[0m         return [\n\u001b[1;32m---> 22\u001b[1;33m             \u001b[0mline\u001b[0m\u001b[1;33m\u001b[0m\u001b[1;33m\u001b[0m\u001b[0m\n\u001b[0m\u001b[0;32m     23\u001b[0m             \u001b[1;32mfor\u001b[0m \u001b[0mline\u001b[0m \u001b[1;32min\u001b[0m \u001b[0mline_tokenize\u001b[0m\u001b[1;33m(\u001b[0m\u001b[0mself\u001b[0m\u001b[1;33m.\u001b[0m\u001b[0mraw\u001b[0m\u001b[1;33m(\u001b[0m\u001b[0mfileids\u001b[0m\u001b[1;33m)\u001b[0m\u001b[1;33m)\u001b[0m\u001b[1;33m\u001b[0m\u001b[1;33m\u001b[0m\u001b[0m\n\u001b[0;32m     24\u001b[0m             \u001b[1;32mif\u001b[0m \u001b[1;32mnot\u001b[0m \u001b[0mline\u001b[0m\u001b[1;33m.\u001b[0m\u001b[0mstartswith\u001b[0m\u001b[1;33m(\u001b[0m\u001b[0mignore_lines_startswith\u001b[0m\u001b[1;33m)\u001b[0m\u001b[1;33m\u001b[0m\u001b[1;33m\u001b[0m\u001b[0m\n",
      "\u001b[1;31mKeyboardInterrupt\u001b[0m: "
     ]
    }
   ],
   "source": [
    "for i,s in enumerate(tqdm(tweets['Text'])):\n",
    "    \n",
    "    try:\n",
    "        text = tweets.loc[i, 'Text']\n",
    "        \n",
    "        text = re.sub(\"^RT\",\" \",text) # Remove the RT at the start of the tweet when it exists\n",
    "        \n",
    "        text = re.sub('https?://(?:[-\\w.]|(?:%[\\da-fA-F]{2}))+/[^\\s]+', '', text, flags=re.MULTILINE) # Remove http links\n",
    "        text = re.sub('www\\.[a-z]?\\.?(com)+|[a-z]+\\.(com)','',text) # Remove www links \n",
    "        text = re.sub(\"\\s+\",\" \",text) # Remove excess whitespace\n",
    "        text = re.sub('@\\\\w+ *', '', text, flags=re.MULTILINE) # Remove @mentions\n",
    "        text = re.sub('&[a-z]+;','',text) # Remove html charachters\n",
    "        \n",
    "        text = re.sub(r'([a-zA-Z])\\1{3,}', reduce_chars, text) # Reduce characters that contain more than 3 consecutive letters into just 3 consecutive letters\n",
    "        \n",
    "        if len(text.split()) < 4: # Remove tweets with less than 4 tokens\n",
    "            tweets = tweets.drop(i)\n",
    "\n",
    "        for w in re.findall(r'\\B#\\w*[a-zA-Z]+\\w*', text): # If the hashtagged word exists in the nltk words corpus then remove the hashtag but keep the word, if it doesn't then remove the hashtagged word completely\n",
    "            check = w.replace(\"#\", \"\")\n",
    "            if check.lower not in nltk.corpus.words.words():\n",
    "                text = text.replace(w,'')\n",
    "        text = text.replace('#','')\n",
    "\n",
    "\n",
    "        text = expandContractions(text) # Expand contractions\n",
    "\n",
    "\n",
    "        text = re.sub(\"\\$(\\w+)\",\"\",text) # Remove ticker symbols\n",
    "        \n",
    "\n",
    "        text = re.sub(\"[0-9]+\\w+\",\"\",text) # Remove tokens containing numerical characters\n",
    "\n",
    "                \n",
    "        tweets.loc[i, 'Text'] = text\n",
    "\n",
    "    except KeyError:\n",
    "        continue       \n",
    "\n",
    "#tweets.to_csv('/content/drive/MyDrive/tweets_preprocessed.csv', header=True,index=False)"
   ]
  },
  {
   "cell_type": "code",
   "execution_count": 24,
   "metadata": {
    "ExecuteTime": {
     "end_time": "2021-07-13T15:39:51.142055Z",
     "start_time": "2021-07-13T15:38:44.540533Z"
    }
   },
   "outputs": [],
   "source": [
    "dataset.to_csv(r'C:\\Users\\Fivos\\Desktop\\Πτυχιακή\\Data Collection\\tweets_preprocessed_all.csv', header=True,index=False)"
   ]
  },
  {
   "cell_type": "code",
   "execution_count": 12,
   "metadata": {
    "ExecuteTime": {
     "end_time": "2021-04-16T21:01:36.102747Z",
     "start_time": "2021-04-16T21:01:36.075242Z"
    }
   },
   "outputs": [
    {
     "data": {
      "text/plain": [
       "['i',\n",
       " 'me',\n",
       " 'my',\n",
       " 'myself',\n",
       " 'we',\n",
       " 'our',\n",
       " 'ours',\n",
       " 'ourselves',\n",
       " 'you',\n",
       " \"you're\",\n",
       " \"you've\",\n",
       " \"you'll\",\n",
       " \"you'd\",\n",
       " 'your',\n",
       " 'yours',\n",
       " 'yourself',\n",
       " 'yourselves',\n",
       " 'he',\n",
       " 'him',\n",
       " 'his',\n",
       " 'himself',\n",
       " 'she',\n",
       " \"she's\",\n",
       " 'her',\n",
       " 'hers',\n",
       " 'herself',\n",
       " 'it',\n",
       " \"it's\",\n",
       " 'its',\n",
       " 'itself',\n",
       " 'they',\n",
       " 'them',\n",
       " 'their',\n",
       " 'theirs',\n",
       " 'themselves',\n",
       " 'what',\n",
       " 'which',\n",
       " 'who',\n",
       " 'whom',\n",
       " 'this',\n",
       " 'that',\n",
       " \"that'll\",\n",
       " 'these',\n",
       " 'those',\n",
       " 'am',\n",
       " 'is',\n",
       " 'are',\n",
       " 'was',\n",
       " 'were',\n",
       " 'be',\n",
       " 'been',\n",
       " 'being',\n",
       " 'have',\n",
       " 'has',\n",
       " 'had',\n",
       " 'having',\n",
       " 'do',\n",
       " 'does',\n",
       " 'did',\n",
       " 'doing',\n",
       " 'a',\n",
       " 'an',\n",
       " 'the',\n",
       " 'and',\n",
       " 'but',\n",
       " 'if',\n",
       " 'or',\n",
       " 'because',\n",
       " 'as',\n",
       " 'until',\n",
       " 'while',\n",
       " 'of',\n",
       " 'at',\n",
       " 'by',\n",
       " 'for',\n",
       " 'with',\n",
       " 'about',\n",
       " 'against',\n",
       " 'between',\n",
       " 'into',\n",
       " 'through',\n",
       " 'during',\n",
       " 'before',\n",
       " 'after',\n",
       " 'above',\n",
       " 'below',\n",
       " 'to',\n",
       " 'from',\n",
       " 'up',\n",
       " 'down',\n",
       " 'in',\n",
       " 'out',\n",
       " 'on',\n",
       " 'off',\n",
       " 'over',\n",
       " 'under',\n",
       " 'again',\n",
       " 'further',\n",
       " 'then',\n",
       " 'once',\n",
       " 'here',\n",
       " 'there',\n",
       " 'when',\n",
       " 'where',\n",
       " 'why',\n",
       " 'how',\n",
       " 'all',\n",
       " 'any',\n",
       " 'both',\n",
       " 'each',\n",
       " 'few',\n",
       " 'more',\n",
       " 'most',\n",
       " 'other',\n",
       " 'some',\n",
       " 'such',\n",
       " 'no',\n",
       " 'nor',\n",
       " 'not',\n",
       " 'only',\n",
       " 'own',\n",
       " 'same',\n",
       " 'so',\n",
       " 'than',\n",
       " 'too',\n",
       " 'very',\n",
       " 's',\n",
       " 't',\n",
       " 'can',\n",
       " 'will',\n",
       " 'just',\n",
       " 'don',\n",
       " \"don't\",\n",
       " 'should',\n",
       " \"should've\",\n",
       " 'now',\n",
       " 'd',\n",
       " 'll',\n",
       " 'm',\n",
       " 'o',\n",
       " 're',\n",
       " 've',\n",
       " 'y',\n",
       " 'ain',\n",
       " 'aren',\n",
       " \"aren't\",\n",
       " 'couldn',\n",
       " \"couldn't\",\n",
       " 'didn',\n",
       " \"didn't\",\n",
       " 'doesn',\n",
       " \"doesn't\",\n",
       " 'hadn',\n",
       " \"hadn't\",\n",
       " 'hasn',\n",
       " \"hasn't\",\n",
       " 'haven',\n",
       " \"haven't\",\n",
       " 'isn',\n",
       " \"isn't\",\n",
       " 'ma',\n",
       " 'mightn',\n",
       " \"mightn't\",\n",
       " 'mustn',\n",
       " \"mustn't\",\n",
       " 'needn',\n",
       " \"needn't\",\n",
       " 'shan',\n",
       " \"shan't\",\n",
       " 'shouldn',\n",
       " \"shouldn't\",\n",
       " 'wasn',\n",
       " \"wasn't\",\n",
       " 'weren',\n",
       " \"weren't\",\n",
       " 'won',\n",
       " \"won't\",\n",
       " 'wouldn',\n",
       " \"wouldn't\"]"
      ]
     },
     "execution_count": 12,
     "metadata": {},
     "output_type": "execute_result"
    }
   ],
   "source": [
    "stopwords.words('english')"
   ]
  },
  {
   "cell_type": "code",
   "execution_count": 14,
   "metadata": {
    "ExecuteTime": {
     "end_time": "2021-04-29T20:30:04.572494Z",
     "start_time": "2021-04-29T20:30:04.539989Z"
    }
   },
   "outputs": [
    {
     "data": {
      "text/html": [
       "<div>\n",
       "<style scoped>\n",
       "    .dataframe tbody tr th:only-of-type {\n",
       "        vertical-align: middle;\n",
       "    }\n",
       "\n",
       "    .dataframe tbody tr th {\n",
       "        vertical-align: top;\n",
       "    }\n",
       "\n",
       "    .dataframe thead th {\n",
       "        text-align: right;\n",
       "    }\n",
       "</style>\n",
       "<table border=\"1\" class=\"dataframe\">\n",
       "  <thead>\n",
       "    <tr style=\"text-align: right;\">\n",
       "      <th></th>\n",
       "      <th>ID</th>\n",
       "      <th>Text</th>\n",
       "      <th>UserName</th>\n",
       "      <th>UserFollowerCount</th>\n",
       "      <th>RetweetCount</th>\n",
       "      <th>Likes</th>\n",
       "      <th>CreatedAt</th>\n",
       "    </tr>\n",
       "  </thead>\n",
       "  <tbody>\n",
       "    <tr>\n",
       "      <th>0</th>\n",
       "      <td>1384521088089079808</td>\n",
       "      <td>$CELOLatest add into my portfolio is #celo.We ...</td>\n",
       "      <td>Siho</td>\n",
       "      <td>146</td>\n",
       "      <td>0</td>\n",
       "      <td>0</td>\n",
       "      <td>Tue Apr 20 14:55:25 +0000 2021</td>\n",
       "    </tr>\n",
       "    <tr>\n",
       "      <th>1</th>\n",
       "      <td>1384521088038752257</td>\n",
       "      <td>*3IQ DIGITAL ASSET MGMT TO LIST BITCOIN FUND O...</td>\n",
       "      <td>sellvolbuytesla</td>\n",
       "      <td>603</td>\n",
       "      <td>0</td>\n",
       "      <td>0</td>\n",
       "      <td>Tue Apr 20 14:55:25 +0000 2021</td>\n",
       "    </tr>\n",
       "    <tr>\n",
       "      <th>2</th>\n",
       "      <td>1384521087912927234</td>\n",
       "      <td>Bitcoin keeps getting rejected from many trend...</td>\n",
       "      <td>Crypto Bible</td>\n",
       "      <td>36798</td>\n",
       "      <td>0</td>\n",
       "      <td>0</td>\n",
       "      <td>Tue Apr 20 14:55:25 +0000 2021</td>\n",
       "    </tr>\n",
       "    <tr>\n",
       "      <th>3</th>\n",
       "      <td>1384521087057203201</td>\n",
       "      <td>RT @michael_saylor: #Bitcoin on Venmo for 70 m...</td>\n",
       "      <td>cjglory</td>\n",
       "      <td>525</td>\n",
       "      <td>1141</td>\n",
       "      <td>0</td>\n",
       "      <td>Tue Apr 20 14:55:24 +0000 2021</td>\n",
       "    </tr>\n",
       "    <tr>\n",
       "      <th>4</th>\n",
       "      <td>1384521086369476609</td>\n",
       "      <td>Tue Apr 20 16:54:13 2021 (30:40)USD : 55,462.7...</td>\n",
       "      <td>Block Watcher</td>\n",
       "      <td>909</td>\n",
       "      <td>0</td>\n",
       "      <td>0</td>\n",
       "      <td>Tue Apr 20 14:55:24 +0000 2021</td>\n",
       "    </tr>\n",
       "    <tr>\n",
       "      <th>5</th>\n",
       "      <td>1384521086348320771</td>\n",
       "      <td>RT @flurbnb: $200 reroll, winner didnt post pr...</td>\n",
       "      <td>Kysky</td>\n",
       "      <td>390</td>\n",
       "      <td>5256</td>\n",
       "      <td>0</td>\n",
       "      <td>Tue Apr 20 14:55:24 +0000 2021</td>\n",
       "    </tr>\n",
       "    <tr>\n",
       "      <th>6</th>\n",
       "      <td>1384521085866024967</td>\n",
       "      <td>RT @DocumentingBTC: Venmo’s 77 million users c...</td>\n",
       "      <td>texas_joker</td>\n",
       "      <td>22</td>\n",
       "      <td>682</td>\n",
       "      <td>0</td>\n",
       "      <td>Tue Apr 20 14:55:24 +0000 2021</td>\n",
       "    </tr>\n",
       "    <tr>\n",
       "      <th>7</th>\n",
       "      <td>1384521085450809346</td>\n",
       "      <td>@ray4tesla @elonmusk @ELONMUSK DIDNT TWEET 420...</td>\n",
       "      <td>What Now, Really 🙄</td>\n",
       "      <td>19</td>\n",
       "      <td>0</td>\n",
       "      <td>0</td>\n",
       "      <td>Tue Apr 20 14:55:24 +0000 2021</td>\n",
       "    </tr>\n",
       "    <tr>\n",
       "      <th>8</th>\n",
       "      <td>1384521084792344577</td>\n",
       "      <td>RT @AgilePeter: My first crypto trading setup ...</td>\n",
       "      <td>peter Saddington</td>\n",
       "      <td>0</td>\n",
       "      <td>7</td>\n",
       "      <td>0</td>\n",
       "      <td>Tue Apr 20 14:55:24 +0000 2021</td>\n",
       "    </tr>\n",
       "    <tr>\n",
       "      <th>9</th>\n",
       "      <td>1384521084771332098</td>\n",
       "      <td>RT @bitstein: How to talk to #Bitcoin skeptics...</td>\n",
       "      <td>known 💰</td>\n",
       "      <td>296</td>\n",
       "      <td>496</td>\n",
       "      <td>0</td>\n",
       "      <td>Tue Apr 20 14:55:24 +0000 2021</td>\n",
       "    </tr>\n",
       "    <tr>\n",
       "      <th>10</th>\n",
       "      <td>1384521084628701184</td>\n",
       "      <td>🤝 Follow me on @betfury. Let's hunt for Bitcoi...</td>\n",
       "      <td>Irma del Carmen Rotonda Robledo</td>\n",
       "      <td>5</td>\n",
       "      <td>0</td>\n",
       "      <td>0</td>\n",
       "      <td>Tue Apr 20 14:55:24 +0000 2021</td>\n",
       "    </tr>\n",
       "    <tr>\n",
       "      <th>11</th>\n",
       "      <td>1384521084448477186</td>\n",
       "      <td>RT @Elmo_Outlaw: Too much permission is being ...</td>\n",
       "      <td>Mind Traveller</td>\n",
       "      <td>46</td>\n",
       "      <td>5</td>\n",
       "      <td>0</td>\n",
       "      <td>Tue Apr 20 14:55:24 +0000 2021</td>\n",
       "    </tr>\n",
       "    <tr>\n",
       "      <th>12</th>\n",
       "      <td>1384521084150579202</td>\n",
       "      <td>#Bitcoin Market Alert! 🚨Order Balance: -53.61%...</td>\n",
       "      <td>Toshi Satoshi (LuNaSystems)</td>\n",
       "      <td>978</td>\n",
       "      <td>0</td>\n",
       "      <td>0</td>\n",
       "      <td>Tue Apr 20 14:55:24 +0000 2021</td>\n",
       "    </tr>\n",
       "    <tr>\n",
       "      <th>13</th>\n",
       "      <td>1384521081663500288</td>\n",
       "      <td>RT @BTC_Archive: Middle East gets its first li...</td>\n",
       "      <td>Philip Taphouse</td>\n",
       "      <td>282</td>\n",
       "      <td>381</td>\n",
       "      <td>0</td>\n",
       "      <td>Tue Apr 20 14:55:23 +0000 2021</td>\n",
       "    </tr>\n",
       "    <tr>\n",
       "      <th>14</th>\n",
       "      <td>1384521080786751495</td>\n",
       "      <td>@hubsarasota U do think BTC will be consolidat...</td>\n",
       "      <td>ACFPS</td>\n",
       "      <td>33</td>\n",
       "      <td>0</td>\n",
       "      <td>0</td>\n",
       "      <td>Tue Apr 20 14:55:23 +0000 2021</td>\n",
       "    </tr>\n",
       "    <tr>\n",
       "      <th>15</th>\n",
       "      <td>1384521080514269184</td>\n",
       "      <td>RT @michael_saylor: #Bitcoin on Venmo for 70 m...</td>\n",
       "      <td>Richard Koepsell</td>\n",
       "      <td>87</td>\n",
       "      <td>1141</td>\n",
       "      <td>0</td>\n",
       "      <td>Tue Apr 20 14:55:23 +0000 2021</td>\n",
       "    </tr>\n",
       "    <tr>\n",
       "      <th>16</th>\n",
       "      <td>1384521078819729409</td>\n",
       "      <td>RT @flurbnb: 🖤 $1000 to someone who retweets t...</td>\n",
       "      <td>MJ IS BUSYNESS 📚</td>\n",
       "      <td>104</td>\n",
       "      <td>10177</td>\n",
       "      <td>0</td>\n",
       "      <td>Tue Apr 20 14:55:23 +0000 2021</td>\n",
       "    </tr>\n",
       "    <tr>\n",
       "      <th>17</th>\n",
       "      <td>1384521077070524419</td>\n",
       "      <td>RT @Sweepsgg: I’m giving $100 to one lucky fol...</td>\n",
       "      <td>pipiw🍭</td>\n",
       "      <td>671</td>\n",
       "      <td>857</td>\n",
       "      <td>0</td>\n",
       "      <td>Tue Apr 20 14:55:22 +0000 2021</td>\n",
       "    </tr>\n",
       "    <tr>\n",
       "      <th>18</th>\n",
       "      <td>1384521075770396672</td>\n",
       "      <td>RT @BTC_Archive: Drawdowns are NORMAL! 😎 20% d...</td>\n",
       "      <td>Siim Metsla</td>\n",
       "      <td>84</td>\n",
       "      <td>126</td>\n",
       "      <td>0</td>\n",
       "      <td>Tue Apr 20 14:55:22 +0000 2021</td>\n",
       "    </tr>\n",
       "    <tr>\n",
       "      <th>19</th>\n",
       "      <td>1384521075673927682</td>\n",
       "      <td>RT @parman_the: If you run only one #bitcoin n...</td>\n",
       "      <td>plebro says RUN 2 NODES!</td>\n",
       "      <td>757</td>\n",
       "      <td>1</td>\n",
       "      <td>0</td>\n",
       "      <td>Tue Apr 20 14:55:22 +0000 2021</td>\n",
       "    </tr>\n",
       "  </tbody>\n",
       "</table>\n",
       "</div>"
      ],
      "text/plain": [
       "                     ID                                               Text  \\\n",
       "0   1384521088089079808  $CELOLatest add into my portfolio is #celo.We ...   \n",
       "1   1384521088038752257  *3IQ DIGITAL ASSET MGMT TO LIST BITCOIN FUND O...   \n",
       "2   1384521087912927234  Bitcoin keeps getting rejected from many trend...   \n",
       "3   1384521087057203201  RT @michael_saylor: #Bitcoin on Venmo for 70 m...   \n",
       "4   1384521086369476609  Tue Apr 20 16:54:13 2021 (30:40)USD : 55,462.7...   \n",
       "5   1384521086348320771  RT @flurbnb: $200 reroll, winner didnt post pr...   \n",
       "6   1384521085866024967  RT @DocumentingBTC: Venmo’s 77 million users c...   \n",
       "7   1384521085450809346  @ray4tesla @elonmusk @ELONMUSK DIDNT TWEET 420...   \n",
       "8   1384521084792344577  RT @AgilePeter: My first crypto trading setup ...   \n",
       "9   1384521084771332098  RT @bitstein: How to talk to #Bitcoin skeptics...   \n",
       "10  1384521084628701184  🤝 Follow me on @betfury. Let's hunt for Bitcoi...   \n",
       "11  1384521084448477186  RT @Elmo_Outlaw: Too much permission is being ...   \n",
       "12  1384521084150579202  #Bitcoin Market Alert! 🚨Order Balance: -53.61%...   \n",
       "13  1384521081663500288  RT @BTC_Archive: Middle East gets its first li...   \n",
       "14  1384521080786751495  @hubsarasota U do think BTC will be consolidat...   \n",
       "15  1384521080514269184  RT @michael_saylor: #Bitcoin on Venmo for 70 m...   \n",
       "16  1384521078819729409  RT @flurbnb: 🖤 $1000 to someone who retweets t...   \n",
       "17  1384521077070524419  RT @Sweepsgg: I’m giving $100 to one lucky fol...   \n",
       "18  1384521075770396672  RT @BTC_Archive: Drawdowns are NORMAL! 😎 20% d...   \n",
       "19  1384521075673927682  RT @parman_the: If you run only one #bitcoin n...   \n",
       "\n",
       "                           UserName UserFollowerCount RetweetCount Likes  \\\n",
       "0                              Siho               146            0     0   \n",
       "1                   sellvolbuytesla               603            0     0   \n",
       "2                      Crypto Bible             36798            0     0   \n",
       "3                           cjglory               525         1141     0   \n",
       "4                     Block Watcher               909            0     0   \n",
       "5                             Kysky               390         5256     0   \n",
       "6                       texas_joker                22          682     0   \n",
       "7                What Now, Really 🙄                19            0     0   \n",
       "8                  peter Saddington                 0            7     0   \n",
       "9                           known 💰               296          496     0   \n",
       "10  Irma del Carmen Rotonda Robledo                 5            0     0   \n",
       "11                   Mind Traveller                46            5     0   \n",
       "12      Toshi Satoshi (LuNaSystems)               978            0     0   \n",
       "13                  Philip Taphouse               282          381     0   \n",
       "14                            ACFPS                33            0     0   \n",
       "15                 Richard Koepsell                87         1141     0   \n",
       "16                 MJ IS BUSYNESS 📚               104        10177     0   \n",
       "17                           pipiw🍭               671          857     0   \n",
       "18                      Siim Metsla                84          126     0   \n",
       "19         plebro says RUN 2 NODES!               757            1     0   \n",
       "\n",
       "                         CreatedAt  \n",
       "0   Tue Apr 20 14:55:25 +0000 2021  \n",
       "1   Tue Apr 20 14:55:25 +0000 2021  \n",
       "2   Tue Apr 20 14:55:25 +0000 2021  \n",
       "3   Tue Apr 20 14:55:24 +0000 2021  \n",
       "4   Tue Apr 20 14:55:24 +0000 2021  \n",
       "5   Tue Apr 20 14:55:24 +0000 2021  \n",
       "6   Tue Apr 20 14:55:24 +0000 2021  \n",
       "7   Tue Apr 20 14:55:24 +0000 2021  \n",
       "8   Tue Apr 20 14:55:24 +0000 2021  \n",
       "9   Tue Apr 20 14:55:24 +0000 2021  \n",
       "10  Tue Apr 20 14:55:24 +0000 2021  \n",
       "11  Tue Apr 20 14:55:24 +0000 2021  \n",
       "12  Tue Apr 20 14:55:24 +0000 2021  \n",
       "13  Tue Apr 20 14:55:23 +0000 2021  \n",
       "14  Tue Apr 20 14:55:23 +0000 2021  \n",
       "15  Tue Apr 20 14:55:23 +0000 2021  \n",
       "16  Tue Apr 20 14:55:23 +0000 2021  \n",
       "17  Tue Apr 20 14:55:22 +0000 2021  \n",
       "18  Tue Apr 20 14:55:22 +0000 2021  \n",
       "19  Tue Apr 20 14:55:22 +0000 2021  "
      ]
     },
     "execution_count": 14,
     "metadata": {},
     "output_type": "execute_result"
    }
   ],
   "source": [
    "test_tweets = tweets.head(20)\n",
    "test_tweets"
   ]
  },
  {
   "cell_type": "markdown",
   "metadata": {},
   "source": [
    "There is no need to casefold the tweet texts or to remove punctuation, no need to remove stopwords, Vader does all that already. We compile the list of cryptoslang to use in the sentiment analysis section. We do not apply Lematisation (Wordnet Lemmatizer) : VADER, has different ratings depending on the form of the word and \n",
    "therefore the input should not be stemmed or lemmatized (source : https://opendatagroup.github.io/data%20science/2019/03/21/preprocessing-text.html )\n"
   ]
  },
  {
   "cell_type": "code",
   "execution_count": null,
   "metadata": {},
   "outputs": [],
   "source": [
    "''' The incredible thing about VADER is it doesn’t require a great deal of preprocessing to work. \n",
    "Unlike with some supervised methods of NLP, preprocessing necessities such as tokenisation and stemming/lemmatisation\n",
    "are not required. You can pretty much plug in any body of text and it will determine the sentiment.\n",
    "VADER is even smart enough to understand the valence of non-conventional text, including emojis (i.e. :-( ),\n",
    "capitalisation (i.e. sad vs SAD) and extended punctuation (i.e. ? vs ???). This is what makes the module so good\n",
    "at analysing social media text. Additionally, VADER removes stop words automatically so there is no need to do so yourself.\n",
    "'''"
   ]
  },
  {
   "cell_type": "markdown",
   "metadata": {},
   "source": [
    "We print some test tweets before and after preprocessing (printing the result in each step of the process) "
   ]
  },
  {
   "cell_type": "code",
   "execution_count": 18,
   "metadata": {
    "ExecuteTime": {
     "end_time": "2021-04-29T20:31:43.488731Z",
     "start_time": "2021-04-29T20:31:38.599281Z"
    }
   },
   "outputs": [
    {
     "name": "stderr",
     "output_type": "stream",
     "text": [
      "\r",
      "  0%|                                                                                           | 0/20 [00:00<?, ?it/s]"
     ]
    },
    {
     "name": "stdout",
     "output_type": "stream",
     "text": [
      "Dirty text:  $CELOLatest add into my portfolio is #celo.We saw very good news coming out today.Watching this closely and adding on a breakout.#crypto #bitcoin #cryptocurrency #btc #ethereum #luna #terra #altcoin #cryptocurrencies #altcoins #trade #defi #NTF #chart #eth#cryptotwitter https://t.co/ilNouj637K\n",
      "\n",
      "Text after removing RT:  $CELOLatest add into my portfolio is #celo.We saw very good news coming out today.Watching this closely and adding on a breakout.#crypto #bitcoin #cryptocurrency #btc #ethereum #luna #terra #altcoin #cryptocurrencies #altcoins #trade #defi #NTF #chart #eth#cryptotwitter https://t.co/ilNouj637K\n",
      "\n",
      "Text after removing URLs, mentions, html characters and whitespace:  $CELOLatest add into my portfolio is #celo.We saw very good news coming out today.Watching this closely and adding on a breakout.#crypto #bitcoin #cryptocurrency #btc #ethereum #luna #terra #altcoin #cryptocurrencies #altcoins #trade #defi #NTF #chart #eth#cryptotwitter \n",
      "\n",
      "Text after reducing character sequences >3 to 3:  $CELOLatest add into my portfolio is #celo.We saw very good news coming out today.Watching this closely and adding on a breakout.#crypto #bitcoin #cryptocurrency #btc #ethereum #luna #terra #altcoin #cryptocurrencies #altcoins #trade #defi #NTF #chart #eth#cryptotwitter \n"
     ]
    },
    {
     "name": "stderr",
     "output_type": "stream",
     "text": [
      "C:\\Users\\Fivos\\anaconda3\\lib\\site-packages\\pandas\\core\\indexing.py:670: SettingWithCopyWarning: \n",
      "A value is trying to be set on a copy of a slice from a DataFrame\n",
      "\n",
      "See the caveats in the documentation: https://pandas.pydata.org/pandas-docs/stable/user_guide/indexing.html#returning-a-view-versus-a-copy\n",
      "  iloc._setitem_with_indexer(indexer, value)\n",
      "<ipython-input-18-b72521aa4a88>:48: SettingWithCopyWarning: \n",
      "A value is trying to be set on a copy of a slice from a DataFrame\n",
      "\n",
      "See the caveats in the documentation: https://pandas.pydata.org/pandas-docs/stable/user_guide/indexing.html#returning-a-view-versus-a-copy\n",
      "  test_tweets.loc[i, 'Text'] = test_text\n",
      " 15%|████████████▍                                                                      | 3/20 [00:01<00:21,  1.29s/it]"
     ]
    },
    {
     "name": "stdout",
     "output_type": "stream",
     "text": [
      "\n",
      "Text after removing hashtags that are not in the Reuters corpus:  $CELOLatest add into my portfolio is .We saw very good news coming out today.Watching this closely and adding on a breakout.  currency      currencies s     twitter \n",
      "\n",
      "Text after expanding contraptions:  $CELOLatest add into my portfolio is .We saw very good news coming out today.Watching this closely and adding on a breakout.  currency      currencies s     twitter \n",
      "\n",
      "Text after removing ticker symbols:   add into my portfolio is .We saw very good news coming out today.Watching this closely and adding on a breakout.  currency      currencies s     twitter \n",
      "\n",
      "Text after removing numerical characters:   add into my portfolio is .We saw very good news coming out today.Watching this closely and adding on a breakout.  currency      currencies s     twitter \n",
      "\n",
      "Clean text:   add into my portfolio is .We saw very good news coming out today.Watching this closely and adding on a breakout.  currency      currencies s     twitter \n",
      "\n",
      "\n",
      "Dirty text:  *3IQ DIGITAL ASSET MGMT TO LIST BITCOIN FUND ON NASDAQ DUBAI\n",
      "\n",
      "Text after removing RT:  *3IQ DIGITAL ASSET MGMT TO LIST BITCOIN FUND ON NASDAQ DUBAI\n",
      "\n",
      "Text after removing URLs, mentions, html characters and whitespace:  *3IQ DIGITAL ASSET MGMT TO LIST BITCOIN FUND ON NASDAQ DUBAI\n",
      "\n",
      "Text after reducing character sequences >3 to 3:  *3IQ DIGITAL ASSET MGMT TO LIST BITCOIN FUND ON NASDAQ DUBAI\n",
      "\n",
      "Text after removing hashtags that are not in the Reuters corpus:  *3IQ DIGITAL ASSET MGMT TO LIST BITCOIN FUND ON NASDAQ DUBAI\n",
      "\n",
      "Text after expanding contraptions:  *3IQ DIGITAL ASSET MGMT TO LIST BITCOIN FUND ON NASDAQ DUBAI\n",
      "\n",
      "Text after removing ticker symbols:  *3IQ DIGITAL ASSET MGMT TO LIST BITCOIN FUND ON NASDAQ DUBAI\n",
      "\n",
      "Text after removing numerical characters:  * DIGITAL ASSET MGMT TO LIST BITCOIN FUND ON NASDAQ DUBAI\n",
      "\n",
      "Clean text:  * DIGITAL ASSET MGMT TO LIST BITCOIN FUND ON NASDAQ DUBAI\n",
      "\n",
      "\n",
      "Dirty text:  Bitcoin keeps getting rejected from many trend lines, the alts are taking a particularly harsh beating, we are now witnessing levels not seen before early March, if this continues #Uniswap alts will stand completely destroyed. Unlock protocol down to 600 from highs of 2000\n",
      "\n",
      "Text after removing RT:  Bitcoin keeps getting rejected from many trend lines, the alts are taking a particularly harsh beating, we are now witnessing levels not seen before early March, if this continues #Uniswap alts will stand completely destroyed. Unlock protocol down to 600 from highs of 2000\n",
      "\n",
      "Text after removing URLs, mentions, html characters and whitespace:  Bitcoin keeps getting rejected from many trend lines, the alts are taking a particularly harsh beating, we are now witnessing levels not seen before early March, if this continues #Uniswap alts will stand completely destroyed. Unlock protocol down to 600 from highs of 2000\n",
      "\n",
      "Text after reducing character sequences >3 to 3:  Bitcoin keeps getting rejected from many trend lines, the alts are taking a particularly harsh beating, we are now witnessing levels not seen before early March, if this continues #Uniswap alts will stand completely destroyed. Unlock protocol down to 600 from highs of 2000\n",
      "\n",
      "Text after removing hashtags that are not in the Reuters corpus:  Bitcoin keeps getting rejected from many trend lines, the alts are taking a particularly harsh beating, we are now witnessing levels not seen before early March, if this continues  alts will stand completely destroyed. Unlock protocol down to 600 from highs of 2000\n",
      "\n",
      "Text after expanding contraptions:  Bitcoin keeps getting rejected from many trend lines, the alts are taking a particularly harsh beating, we are now witnessing levels not seen before early March, if this continues  alts will stand completely destroyed. Unlock protocol down to 600 from highs of 2000\n",
      "\n",
      "Text after removing ticker symbols:  Bitcoin keeps getting rejected from many trend lines, the alts are taking a particularly harsh beating, we are now witnessing levels not seen before early March, if this continues  alts will stand completely destroyed. Unlock protocol down to 600 from highs of 2000\n",
      "\n",
      "Text after removing numerical characters:  Bitcoin keeps getting rejected from many trend lines, the alts are taking a particularly harsh beating, we are now witnessing levels not seen before early March, if this continues  alts will stand completely destroyed. Unlock protocol down to  from highs of \n",
      "\n",
      "Clean text:  Bitcoin keeps getting rejected from many trend lines, the alts are taking a particularly harsh beating, we are now witnessing levels not seen before early March, if this continues  alts will stand completely destroyed. Unlock protocol down to  from highs of \n",
      "\n",
      "\n",
      "Dirty text:  RT @michael_saylor: #Bitcoin on Venmo for 70 million users places more pressure on Apple, Google, &amp; Facebook to integrate bitcoin into thei…\n",
      "\n",
      "Text after removing RT:    @michael_saylor: #Bitcoin on Venmo for 70 million users places more pressure on Apple, Google, &amp; Facebook to integrate bitcoin into thei…\n",
      "\n",
      "Text after removing URLs, mentions, html characters and whitespace:   : #Bitcoin on Venmo for 70 million users places more pressure on Apple, Google,  Facebook to integrate bitcoin into thei…\n",
      "\n",
      "Text after reducing character sequences >3 to 3:   : #Bitcoin on Venmo for 70 million users places more pressure on Apple, Google,  Facebook to integrate bitcoin into thei…\n"
     ]
    },
    {
     "name": "stderr",
     "output_type": "stream",
     "text": [
      " 25%|████████████████████▊                                                              | 5/20 [00:02<00:10,  1.45it/s]"
     ]
    },
    {
     "name": "stdout",
     "output_type": "stream",
     "text": [
      "\n",
      "Text after removing hashtags that are not in the Reuters corpus:   :  on Venmo for 70 million users places more pressure on Apple, Google,  Facebook to integrate bitcoin into thei…\n",
      "\n",
      "Text after expanding contraptions:   :  on Venmo for 70 million users places more pressure on Apple, Google,  Facebook to integrate bitcoin into thei…\n",
      "\n",
      "Text after removing ticker symbols:   :  on Venmo for 70 million users places more pressure on Apple, Google,  Facebook to integrate bitcoin into thei…\n",
      "\n",
      "Text after removing numerical characters:   :  on Venmo for  million users places more pressure on Apple, Google,  Facebook to integrate bitcoin into thei…\n",
      "\n",
      "Clean text:   :  on Venmo for  million users places more pressure on Apple, Google,  Facebook to integrate bitcoin into thei…\n",
      "\n",
      "\n",
      "Dirty text:  Tue Apr 20 16:54:13 2021 (30:40)USD : 55,462.75Wght: 211,599Blk#: 679,913Size: 1,340.5Txs : 3,060Pool: 126,436 (72.4 MB)#bitcoin\n",
      "\n",
      "Text after removing RT:  Tue Apr 20 16:54:13 2021 (30:40)USD : 55,462.75Wght: 211,599Blk#: 679,913Size: 1,340.5Txs : 3,060Pool: 126,436 (72.4 MB)#bitcoin\n",
      "\n",
      "Text after removing URLs, mentions, html characters and whitespace:  Tue Apr 20 16:54:13 2021 (30:40)USD : 55,462.75Wght: 211,599Blk#: 679,913Size: 1,340.5Txs : 3,060Pool: 126,436 (72.4 MB)#bitcoin\n",
      "\n",
      "Text after reducing character sequences >3 to 3:  Tue Apr 20 16:54:13 2021 (30:40)USD : 55,462.75Wght: 211,599Blk#: 679,913Size: 1,340.5Txs : 3,060Pool: 126,436 (72.4 MB)#bitcoin\n",
      "\n",
      "Text after removing hashtags that are not in the Reuters corpus:  Tue Apr 20 16:54:13 2021 (30:40)USD : 55,462.75Wght: 211,599Blk: 679,913Size: 1,340.5Txs : 3,060Pool: 126,436 (72.4 MB)\n",
      "\n",
      "Text after expanding contraptions:  Tue Apr 20 16:54:13 2021 (30:40)USD : 55,462.75Wght: 211,599Blk: 679,913Size: 1,340.5Txs : 3,060Pool: 126,436 (72.4 MB)\n",
      "\n",
      "Text after removing ticker symbols:  Tue Apr 20 16:54:13 2021 (30:40)USD : 55,462.75Wght: 211,599Blk: 679,913Size: 1,340.5Txs : 3,060Pool: 126,436 (72.4 MB)\n",
      "\n",
      "Text after removing numerical characters:  Tue Apr  ::  (:)USD : ,.: ,: ,: 1,. : 3,: , (.4 MB)\n",
      "\n",
      "Clean text:  Tue Apr  ::  (:)USD : ,.: ,: ,: 1,. : 3,: , (.4 MB)\n",
      "\n",
      "\n",
      "Dirty text:  RT @flurbnb: $200 reroll, winner didnt post proof of 🔔. retweet + follow + post proof of 🔔. ends in 24 hours. #giveaway #bitcoin #doge #dog…\n",
      "\n",
      "Text after removing RT:    @flurbnb: $200 reroll, winner didnt post proof of 🔔. retweet + follow + post proof of 🔔. ends in 24 hours. #giveaway #bitcoin #doge #dog…\n",
      "\n",
      "Text after removing URLs, mentions, html characters and whitespace:   : $200 reroll, winner didnt post proof of 🔔. retweet + follow + post proof of 🔔. ends in 24 hours. #giveaway #bitcoin #doge #dog…\n",
      "\n",
      "Text after reducing character sequences >3 to 3:   : $200 reroll, winner didnt post proof of 🔔. retweet + follow + post proof of 🔔. ends in 24 hours. #giveaway #bitcoin #doge #dog…\n"
     ]
    },
    {
     "name": "stderr",
     "output_type": "stream",
     "text": [
      " 35%|█████████████████████████████                                                      | 7/20 [00:02<00:06,  2.16it/s]"
     ]
    },
    {
     "name": "stdout",
     "output_type": "stream",
     "text": [
      "\n",
      "Text after removing hashtags that are not in the Reuters corpus:   : $200 reroll, winner didnt post proof of 🔔. retweet + follow + post proof of 🔔. ends in 24 hours.    …\n",
      "\n",
      "Text after expanding contraptions:   : $200 reroll, winner didnt post proof of 🔔. retweet + follow + post proof of 🔔. ends in 24 hours.    …\n",
      "\n",
      "Text after removing ticker symbols:   :  reroll, winner didnt post proof of 🔔. retweet + follow + post proof of 🔔. ends in 24 hours.    …\n",
      "\n",
      "Text after removing numerical characters:   :  reroll, winner didnt post proof of 🔔. retweet + follow + post proof of 🔔. ends in  hours.    …\n",
      "\n",
      "Clean text:   :  reroll, winner didnt post proof of 🔔. retweet + follow + post proof of 🔔. ends in  hours.    …\n",
      "\n",
      "\n",
      "Dirty text:  RT @DocumentingBTC: Venmo’s 77 million users can now buy, hold, and sell #bitcoin with as little as $1.\n",
      "\n",
      "Text after removing RT:    @DocumentingBTC: Venmo’s 77 million users can now buy, hold, and sell #bitcoin with as little as $1.\n",
      "\n",
      "Text after removing URLs, mentions, html characters and whitespace:   : Venmo’s 77 million users can now buy, hold, and sell #bitcoin with as little as $1.\n",
      "\n",
      "Text after reducing character sequences >3 to 3:   : Venmo’s 77 million users can now buy, hold, and sell #bitcoin with as little as $1.\n",
      "\n",
      "Text after removing hashtags that are not in the Reuters corpus:   : Venmo’s 77 million users can now buy, hold, and sell  with as little as $1.\n",
      "\n",
      "Text after expanding contraptions:   : Venmo’s 77 million users can now buy, hold, and sell  with as little as $1.\n",
      "\n",
      "Text after removing ticker symbols:   : Venmo’s 77 million users can now buy, hold, and sell  with as little as .\n",
      "\n",
      "Text after removing numerical characters:   : Venmo’s  million users can now buy, hold, and sell  with as little as .\n",
      "\n",
      "Clean text:   : Venmo’s  million users can now buy, hold, and sell  with as little as .\n",
      "\n",
      "\n",
      "Dirty text:  @ray4tesla @elonmusk @ELONMUSK DIDNT TWEET 420 FUNDED SECUREDPEDO GUYSTOCKS R 2HIGHOR 99% OF HIS @Twitter #HACKERSHE WANTS🚫#CRYPTOCURRENCY #dogecoin #Bitcoin #PONZISCHEME ❗BLACKMAILED SINCE 2018🚫👶X❗@grimezsz POISONED HIM&amp;HELPED A GROUP RAPE&amp;TORTURE HIM🎥🎥 https://t.co/1H8ltt6dAD https://t.co/1vCUMHtCeB\n",
      "\n",
      "Text after removing RT:  @ray4tesla @elonmusk @ELONMUSK DIDNT TWEET 420 FUNDED SECUREDPEDO GUYSTOCKS R 2HIGHOR 99% OF HIS @Twitter #HACKERSHE WANTS🚫#CRYPTOCURRENCY #dogecoin #Bitcoin #PONZISCHEME ❗BLACKMAILED SINCE 2018🚫👶X❗@grimezsz POISONED HIM&amp;HELPED A GROUP RAPE&amp;TORTURE HIM🎥🎥 https://t.co/1H8ltt6dAD https://t.co/1vCUMHtCeB\n",
      "\n",
      "Text after removing URLs, mentions, html characters and whitespace:  DIDNT TWEET 420 FUNDED SECUREDPEDO GUYSTOCKS R 2HIGHOR 99% OF HIS #HACKERSHE WANTS🚫#CRYPTOCURRENCY #dogecoin #Bitcoin #PONZISCHEME ❗BLACKMAILED SINCE 2018🚫👶X❗POISONED HIMHELPED A GROUP RAPETORTURE HIM🎥🎥 \n",
      "\n",
      "Text after reducing character sequences >3 to 3:  DIDNT TWEET 420 FUNDED SECUREDPEDO GUYSTOCKS R 2HIGHOR 99% OF HIS #HACKERSHE WANTS🚫#CRYPTOCURRENCY #dogecoin #Bitcoin #PONZISCHEME ❗BLACKMAILED SINCE 2018🚫👶X❗POISONED HIMHELPED A GROUP RAPETORTURE HIM🎥🎥 \n"
     ]
    },
    {
     "name": "stderr",
     "output_type": "stream",
     "text": [
      " 45%|█████████████████████████████████████▎                                             | 9/20 [00:03<00:04,  2.72it/s]"
     ]
    },
    {
     "name": "stdout",
     "output_type": "stream",
     "text": [
      "\n",
      "Text after removing hashtags that are not in the Reuters corpus:  DIDNT TWEET 420 FUNDED SECUREDPEDO GUYSTOCKS R 2HIGHOR 99% OF HIS  WANTS🚫    ❗BLACKMAILED SINCE 2018🚫👶X❗POISONED HIMHELPED A GROUP RAPETORTURE HIM🎥🎥 \n",
      "\n",
      "Text after expanding contraptions:  DIDNT TWEET 420 FUNDED SECUREDPEDO GUYSTOCKS R 2HIGHOR 99% OF HIS  WANTS🚫    ❗BLACKMAILED SINCE 2018🚫👶X❗POISONED HIMHELPED A GROUP RAPETORTURE HIM🎥🎥 \n",
      "\n",
      "Text after removing ticker symbols:  DIDNT TWEET 420 FUNDED SECUREDPEDO GUYSTOCKS R 2HIGHOR 99% OF HIS  WANTS🚫    ❗BLACKMAILED SINCE 2018🚫👶X❗POISONED HIMHELPED A GROUP RAPETORTURE HIM🎥🎥 \n",
      "\n",
      "Text after removing numerical characters:  DIDNT TWEET  FUNDED SECUREDPEDO GUYSTOCKS R  % OF HIS  WANTS🚫    ❗BLACKMAILED SINCE 🚫👶X❗POISONED HIMHELPED A GROUP RAPETORTURE HIM🎥🎥 \n",
      "\n",
      "Clean text:  DIDNT TWEET  FUNDED SECUREDPEDO GUYSTOCKS R  % OF HIS  WANTS🚫    ❗BLACKMAILED SINCE 🚫👶X❗POISONED HIMHELPED A GROUP RAPETORTURE HIM🎥🎥 \n",
      "\n",
      "\n",
      "Dirty text:  RT @AgilePeter: My first crypto trading setup back in 2017. See that chart tho...#Bitcoin was dropping fast to $2150 with an MACD and res…\n",
      "\n",
      "Text after removing RT:    @AgilePeter: My first crypto trading setup back in 2017. See that chart tho...#Bitcoin was dropping fast to $2150 with an MACD and res…\n",
      "\n",
      "Text after removing URLs, mentions, html characters and whitespace:   : My first crypto trading setup back in 2017. See that chart tho...#Bitcoin was dropping fast to $2150 with an MACD and res…\n",
      "\n",
      "Text after reducing character sequences >3 to 3:   : My first crypto trading setup back in 2017. See that chart tho...#Bitcoin was dropping fast to $2150 with an MACD and res…\n",
      "\n",
      "Text after removing hashtags that are not in the Reuters corpus:   : My first crypto trading setup back in 2017. See that chart tho... was dropping fast to $2150 with an MACD and res…\n",
      "\n",
      "Text after expanding contraptions:   : My first crypto trading setup back in 2017. See that chart tho... was dropping fast to $2150 with an MACD and res…\n",
      "\n",
      "Text after removing ticker symbols:   : My first crypto trading setup back in 2017. See that chart tho... was dropping fast to  with an MACD and res…\n",
      "\n",
      "Text after removing numerical characters:   : My first crypto trading setup back in . See that chart tho... was dropping fast to  with an MACD and res…\n",
      "\n",
      "Clean text:   : My first crypto trading setup back in . See that chart tho... was dropping fast to  with an MACD and res…\n",
      "\n",
      "\n",
      "Dirty text:  RT @bitstein: How to talk to #Bitcoin skeptics: https://t.co/lLuTlbo0u0\n",
      "\n",
      "Text after removing RT:    @bitstein: How to talk to #Bitcoin skeptics: https://t.co/lLuTlbo0u0\n",
      "\n",
      "Text after removing URLs, mentions, html characters and whitespace:   : How to talk to #Bitcoin skeptics: \n",
      "\n",
      "Text after reducing character sequences >3 to 3:   : How to talk to #Bitcoin skeptics: \n"
     ]
    },
    {
     "name": "stderr",
     "output_type": "stream",
     "text": [
      "\r",
      " 50%|█████████████████████████████████████████                                         | 10/20 [00:03<00:02,  3.45it/s]"
     ]
    },
    {
     "name": "stdout",
     "output_type": "stream",
     "text": [
      "\n",
      "Text after removing hashtags that are not in the Reuters corpus:   : How to talk to  skeptics: \n",
      "\n",
      "Text after expanding contraptions:   : How to talk to  skeptics: \n",
      "\n",
      "Text after removing ticker symbols:   : How to talk to  skeptics: \n",
      "\n",
      "Text after removing numerical characters:   : How to talk to  skeptics: \n",
      "\n",
      "Clean text:   : How to talk to  skeptics: \n",
      "\n",
      "\n",
      "Dirty text:  🤝 Follow me on @betfury. Let's hunt for Bitcoins together! Get an exciting experience on #1 I-Gaming platform with #BTC staking payouts!💰.My Username: Irdel #betfurysuccess #bitcoin #staking\n",
      "\n",
      "Text after removing RT:  🤝 Follow me on @betfury. Let's hunt for Bitcoins together! Get an exciting experience on #1 I-Gaming platform with #BTC staking payouts!💰.My Username: Irdel #betfurysuccess #bitcoin #staking\n",
      "\n",
      "Text after removing URLs, mentions, html characters and whitespace:  🤝 Follow me on . Let's hunt for Bitcoins together! Get an exciting experience on #1 I-Gaming platform with #BTC staking payouts!💰.My Username: Irdel #betfurysuccess #bitcoin #staking\n",
      "\n",
      "Text after reducing character sequences >3 to 3:  🤝 Follow me on . Let's hunt for Bitcoins together! Get an exciting experience on #1 I-Gaming platform with #BTC staking payouts!💰.My Username: Irdel #betfurysuccess #bitcoin #staking\n"
     ]
    },
    {
     "name": "stderr",
     "output_type": "stream",
     "text": [
      " 65%|█████████████████████████████████████████████████████▎                            | 13/20 [00:03<00:01,  4.07it/s]"
     ]
    },
    {
     "name": "stdout",
     "output_type": "stream",
     "text": [
      "\n",
      "Text after removing hashtags that are not in the Reuters corpus:  🤝 Follow me on . Let's hunt for Bitcoins together! Get an exciting experience on 1 I-Gaming platform with  staking payouts!💰.My Username: Irdel   \n",
      "\n",
      "Text after expanding contraptions:  🤝 Follow me on . Let's hunt for Bitcoins together! Get an exciting experience on 1 I-Gaming platform with  staking payouts!💰.My Username: Irdel   \n",
      "\n",
      "Text after removing ticker symbols:  🤝 Follow me on . Let's hunt for Bitcoins together! Get an exciting experience on 1 I-Gaming platform with  staking payouts!💰.My Username: Irdel   \n",
      "\n",
      "Text after removing numerical characters:  🤝 Follow me on . Let's hunt for Bitcoins together! Get an exciting experience on 1 I-Gaming platform with  staking payouts!💰.My Username: Irdel   \n",
      "\n",
      "Clean text:  🤝 Follow me on . Let's hunt for Bitcoins together! Get an exciting experience on 1 I-Gaming platform with  staking payouts!💰.My Username: Irdel   \n",
      "\n",
      "\n",
      "Dirty text:  RT @Elmo_Outlaw: Too much permission is being built on and around bitcoin.Don't fucking fall for any of it.\n",
      "\n",
      "Text after removing RT:    @Elmo_Outlaw: Too much permission is being built on and around bitcoin.Don't fucking fall for any of it.\n",
      "\n",
      "Text after removing URLs, mentions, html characters and whitespace:   : Too much permission is being built on and around bitcoin.Don't fucking fall for any of it.\n",
      "\n",
      "Text after reducing character sequences >3 to 3:   : Too much permission is being built on and around bitcoin.Don't fucking fall for any of it.\n",
      "\n",
      "Text after removing hashtags that are not in the Reuters corpus:   : Too much permission is being built on and around bitcoin.Don't fucking fall for any of it.\n",
      "\n",
      "Text after expanding contraptions:   : Too much permission is being built on and around bitcoin.Don't fucking fall for any of it.\n",
      "\n",
      "Text after removing ticker symbols:   : Too much permission is being built on and around bitcoin.Don't fucking fall for any of it.\n",
      "\n",
      "Text after removing numerical characters:   : Too much permission is being built on and around bitcoin.Don't fucking fall for any of it.\n",
      "\n",
      "Clean text:   : Too much permission is being built on and around bitcoin.Don't fucking fall for any of it.\n",
      "\n",
      "\n",
      "Dirty text:  #Bitcoin Market Alert! 🚨Order Balance: -53.61% (Sell)Buy 23.20% | Sell 76.80%Bid: $55450.952 Ask: $55456.164Spread: $5.212\n",
      "\n",
      "Text after removing RT:  #Bitcoin Market Alert! 🚨Order Balance: -53.61% (Sell)Buy 23.20% | Sell 76.80%Bid: $55450.952 Ask: $55456.164Spread: $5.212\n",
      "\n",
      "Text after removing URLs, mentions, html characters and whitespace:  #Bitcoin Market Alert! 🚨Order Balance: -53.61% (Sell)Buy 23.20% | Sell 76.80%Bid: $55450.952 Ask: $55456.164Spread: $5.212\n",
      "\n",
      "Text after reducing character sequences >3 to 3:  #Bitcoin Market Alert! 🚨Order Balance: -53.61% (Sell)Buy 23.20% | Sell 76.80%Bid: $55450.952 Ask: $55456.164Spread: $5.212\n",
      "\n",
      "Text after removing hashtags that are not in the Reuters corpus:   Market Alert! 🚨Order Balance: -53.61% (Sell)Buy 23.20% | Sell 76.80%Bid: $55450.952 Ask: $55456.164Spread: $5.212\n",
      "\n",
      "Text after expanding contraptions:   Market Alert! 🚨Order Balance: -53.61% (Sell)Buy 23.20% | Sell 76.80%Bid: $55450.952 Ask: $55456.164Spread: $5.212\n",
      "\n",
      "Text after removing ticker symbols:   Market Alert! 🚨Order Balance: -53.61% (Sell)Buy 23.20% | Sell 76.80%Bid: .952 Ask: .164Spread: .212\n",
      "\n",
      "Text after removing numerical characters:   Market Alert! 🚨Order Balance: -.% (Sell)Buy .% | Sell .%Bid: . Ask: .: .\n",
      "\n",
      "Clean text:   Market Alert! 🚨Order Balance: -.% (Sell)Buy .% | Sell .%Bid: . Ask: .: .\n",
      "\n",
      "\n",
      "Dirty text:  RT @BTC_Archive: Middle East gets its first listed #Bitcoin fund on the Nasdaq-Dubai. Yalla Bitcoin!!\n",
      "\n",
      "Text after removing RT:    @BTC_Archive: Middle East gets its first listed #Bitcoin fund on the Nasdaq-Dubai. Yalla Bitcoin!!\n",
      "\n",
      "Text after removing URLs, mentions, html characters and whitespace:   : Middle East gets its first listed #Bitcoin fund on the Nasdaq-Dubai. Yalla Bitcoin!!\n",
      "\n",
      "Text after reducing character sequences >3 to 3:   : Middle East gets its first listed #Bitcoin fund on the Nasdaq-Dubai. Yalla Bitcoin!!\n"
     ]
    },
    {
     "name": "stderr",
     "output_type": "stream",
     "text": [
      " 80%|█████████████████████████████████████████████████████████████████▌                | 16/20 [00:04<00:00,  6.31it/s]"
     ]
    },
    {
     "name": "stdout",
     "output_type": "stream",
     "text": [
      "\n",
      "Text after removing hashtags that are not in the Reuters corpus:   : Middle East gets its first listed  fund on the Nasdaq-Dubai. Yalla Bitcoin!!\n",
      "\n",
      "Text after expanding contraptions:   : Middle East gets its first listed  fund on the Nasdaq-Dubai. Yalla Bitcoin!!\n",
      "\n",
      "Text after removing ticker symbols:   : Middle East gets its first listed  fund on the Nasdaq-Dubai. Yalla Bitcoin!!\n",
      "\n",
      "Text after removing numerical characters:   : Middle East gets its first listed  fund on the Nasdaq-Dubai. Yalla Bitcoin!!\n",
      "\n",
      "Clean text:   : Middle East gets its first listed  fund on the Nasdaq-Dubai. Yalla Bitcoin!!\n",
      "\n",
      "\n",
      "Dirty text:  @hubsarasota U do think BTC will be consolidating for this whole week ?\n",
      "\n",
      "Text after removing RT:  @hubsarasota U do think BTC will be consolidating for this whole week ?\n",
      "\n",
      "Text after removing URLs, mentions, html characters and whitespace:  U do think BTC will be consolidating for this whole week ?\n",
      "\n",
      "Text after reducing character sequences >3 to 3:  U do think BTC will be consolidating for this whole week ?\n",
      "\n",
      "Text after removing hashtags that are not in the Reuters corpus:  U do think BTC will be consolidating for this whole week ?\n",
      "\n",
      "Text after expanding contraptions:  U do think BTC will be consolidating for this whole week ?\n",
      "\n",
      "Text after removing ticker symbols:  U do think BTC will be consolidating for this whole week ?\n",
      "\n",
      "Text after removing numerical characters:  U do think BTC will be consolidating for this whole week ?\n",
      "\n",
      "Clean text:  U do think BTC will be consolidating for this whole week ?\n",
      "\n",
      "\n",
      "Dirty text:  RT @michael_saylor: #Bitcoin on Venmo for 70 million users places more pressure on Apple, Google, &amp; Facebook to integrate bitcoin into thei…\n",
      "\n",
      "Text after removing RT:    @michael_saylor: #Bitcoin on Venmo for 70 million users places more pressure on Apple, Google, &amp; Facebook to integrate bitcoin into thei…\n",
      "\n",
      "Text after removing URLs, mentions, html characters and whitespace:   : #Bitcoin on Venmo for 70 million users places more pressure on Apple, Google,  Facebook to integrate bitcoin into thei…\n",
      "\n",
      "Text after reducing character sequences >3 to 3:   : #Bitcoin on Venmo for 70 million users places more pressure on Apple, Google,  Facebook to integrate bitcoin into thei…\n",
      "\n",
      "Text after removing hashtags that are not in the Reuters corpus:   :  on Venmo for 70 million users places more pressure on Apple, Google,  Facebook to integrate bitcoin into thei…\n",
      "\n",
      "Text after expanding contraptions:   :  on Venmo for 70 million users places more pressure on Apple, Google,  Facebook to integrate bitcoin into thei…\n",
      "\n",
      "Text after removing ticker symbols:   :  on Venmo for 70 million users places more pressure on Apple, Google,  Facebook to integrate bitcoin into thei…\n",
      "\n",
      "Text after removing numerical characters:   :  on Venmo for  million users places more pressure on Apple, Google,  Facebook to integrate bitcoin into thei…\n",
      "\n",
      "Clean text:   :  on Venmo for  million users places more pressure on Apple, Google,  Facebook to integrate bitcoin into thei…\n",
      "\n",
      "\n",
      "Dirty text:  RT @flurbnb: 🖤 $1000 to someone who retweets this and follows @bitcoin_paris_, ends in 1 week! 🖤 #giveaway #bitcoin #ethereum #bnb\n",
      "\n",
      "Text after removing RT:    @flurbnb: 🖤 $1000 to someone who retweets this and follows @bitcoin_paris_, ends in 1 week! 🖤 #giveaway #bitcoin #ethereum #bnb\n",
      "\n",
      "Text after removing URLs, mentions, html characters and whitespace:   : 🖤 $1000 to someone who retweets this and follows , ends in 1 week! 🖤 #giveaway #bitcoin #ethereum #bnb\n",
      "\n",
      "Text after reducing character sequences >3 to 3:   : 🖤 $1000 to someone who retweets this and follows , ends in 1 week! 🖤 #giveaway #bitcoin #ethereum #bnb\n"
     ]
    },
    {
     "name": "stderr",
     "output_type": "stream",
     "text": [
      "\r",
      " 90%|█████████████████████████████████████████████████████████████████████████▊        | 18/20 [00:04<00:00,  5.24it/s]"
     ]
    },
    {
     "name": "stdout",
     "output_type": "stream",
     "text": [
      "\n",
      "Text after removing hashtags that are not in the Reuters corpus:   : 🖤 $1000 to someone who retweets this and follows , ends in 1 week! 🖤    \n",
      "\n",
      "Text after expanding contraptions:   : 🖤 $1000 to someone who retweets this and follows , ends in 1 week! 🖤    \n",
      "\n",
      "Text after removing ticker symbols:   : 🖤  to someone who retweets this and follows , ends in 1 week! 🖤    \n",
      "\n",
      "Text after removing numerical characters:   : 🖤  to someone who retweets this and follows , ends in 1 week! 🖤    \n",
      "\n",
      "Clean text:   : 🖤  to someone who retweets this and follows , ends in 1 week! 🖤    \n",
      "\n",
      "\n",
      "Dirty text:  RT @Sweepsgg: I’m giving $100 to one lucky follower that retweets this within the next 24 hours. #BitcoinTo enter:1. Follow @MoonRatFina…\n",
      "\n",
      "Text after removing RT:    @Sweepsgg: I’m giving $100 to one lucky follower that retweets this within the next 24 hours. #BitcoinTo enter:1. Follow @MoonRatFina…\n",
      "\n",
      "Text after removing URLs, mentions, html characters and whitespace:   : I’m giving $100 to one lucky follower that retweets this within the next 24 hours. #BitcoinTo enter:1. Follow …\n",
      "\n",
      "Text after reducing character sequences >3 to 3:   : I’m giving $100 to one lucky follower that retweets this within the next 24 hours. #BitcoinTo enter:1. Follow …\n",
      "\n",
      "Text after removing hashtags that are not in the Reuters corpus:   : I’m giving $100 to one lucky follower that retweets this within the next 24 hours.  enter:1. Follow …\n",
      "\n",
      "Text after expanding contraptions:   : I’m giving $100 to one lucky follower that retweets this within the next 24 hours.  enter:1. Follow …\n",
      "\n",
      "Text after removing ticker symbols:   : I’m giving  to one lucky follower that retweets this within the next 24 hours.  enter:1. Follow …\n",
      "\n",
      "Text after removing numerical characters:   : I’m giving  to one lucky follower that retweets this within the next  hours.  enter:1. Follow …\n",
      "\n",
      "Clean text:   : I’m giving  to one lucky follower that retweets this within the next  hours.  enter:1. Follow …\n",
      "\n",
      "\n",
      "Dirty text:  RT @BTC_Archive: Drawdowns are NORMAL! 😎 20% drawdown in August-17% in November, -31% in January, -26% in February, -18% March, -16%…\n",
      "\n",
      "Text after removing RT:    @BTC_Archive: Drawdowns are NORMAL! 😎 20% drawdown in August-17% in November, -31% in January, -26% in February, -18% March, -16%…\n",
      "\n",
      "Text after removing URLs, mentions, html characters and whitespace:   : Drawdowns are NORMAL! 😎 20% drawdown in August-17% in November, -31% in January, -26% in February, -18% March, -16%…\n",
      "\n",
      "Text after reducing character sequences >3 to 3:   : Drawdowns are NORMAL! 😎 20% drawdown in August-17% in November, -31% in January, -26% in February, -18% March, -16%…\n",
      "\n",
      "Text after removing hashtags that are not in the Reuters corpus:   : Drawdowns are NORMAL! 😎 20% drawdown in August-17% in November, -31% in January, -26% in February, -18% March, -16%…\n",
      "\n",
      "Text after expanding contraptions:   : Drawdowns are NORMAL! 😎 20% drawdown in August-17% in November, -31% in January, -26% in February, -18% March, -16%…\n",
      "\n",
      "Text after removing ticker symbols:   : Drawdowns are NORMAL! 😎 20% drawdown in August-17% in November, -31% in January, -26% in February, -18% March, -16%…\n",
      "\n",
      "Text after removing numerical characters:   : Drawdowns are NORMAL! 😎 % drawdown in August-% in November, -% in January, -% in February, -% March, -%…\n",
      "\n",
      "Clean text:   : Drawdowns are NORMAL! 😎 % drawdown in August-% in November, -% in January, -% in February, -% March, -%…\n",
      "\n",
      "\n",
      "Dirty text:  RT @parman_the: If you run only one #bitcoin node instead of 2 or more, you're not doing it right.\n",
      "\n",
      "Text after removing RT:    @parman_the: If you run only one #bitcoin node instead of 2 or more, you're not doing it right.\n",
      "\n",
      "Text after removing URLs, mentions, html characters and whitespace:   : If you run only one #bitcoin node instead of 2 or more, you're not doing it right.\n",
      "\n",
      "Text after reducing character sequences >3 to 3:   : If you run only one #bitcoin node instead of 2 or more, you're not doing it right.\n"
     ]
    },
    {
     "name": "stderr",
     "output_type": "stream",
     "text": [
      "100%|██████████████████████████████████████████████████████████████████████████████████| 20/20 [00:04<00:00,  4.14it/s]"
     ]
    },
    {
     "name": "stdout",
     "output_type": "stream",
     "text": [
      "\n",
      "Text after removing hashtags that are not in the Reuters corpus:   : If you run only one  node instead of 2 or more, you're not doing it right.\n",
      "\n",
      "Text after expanding contraptions:   : If you run only one  node instead of 2 or more, you are not doing it right.\n",
      "\n",
      "Text after removing ticker symbols:   : If you run only one  node instead of 2 or more, you are not doing it right.\n",
      "\n",
      "Text after removing numerical characters:   : If you run only one  node instead of 2 or more, you are not doing it right.\n",
      "\n",
      "Clean text:   : If you run only one  node instead of 2 or more, you are not doing it right.\n",
      "\n",
      "\n"
     ]
    },
    {
     "name": "stderr",
     "output_type": "stream",
     "text": [
      "\n"
     ]
    }
   ],
   "source": [
    "#test_text = test_tweets.loc[1]['Text']\n",
    "for i,s in enumerate(tqdm(test_tweets['Text'])):\n",
    "    \n",
    "    \n",
    "    test_text = test_tweets.loc[i, 'Text']\n",
    "    print('Dirty text: ',test_text)\n",
    "    \n",
    "    test_text = re.sub(\"^RT\",\" \",test_text) #remove the RT at the start of the tweet when it exists\n",
    "    print('\\nText after removing RT: ',test_text)\n",
    "    \n",
    "    test_text = re.sub('https?://(?:[-\\w.]|(?:%[\\da-fA-F]{2}))+/[^\\s]+', '', test_text, flags=re.MULTILINE) #remove http links\n",
    "    test_text = re.sub('www\\.[a-z]?\\.?(com)+|[a-z]+\\.(com)','',test_text) #remove www links \n",
    "    test_text = re.sub(\"\\s+\",\" \",test_text) #remove excess whitespace\n",
    "    test_text = re.sub('@\\\\w+ *', '', test_text, flags=re.MULTILINE) #remove @mentions\n",
    "    test_text = re.sub('&[a-z]+;','',test_text) #remove html charachters\n",
    "    print('\\nText after removing URLs, mentions, html characters and whitespace: ',test_text)\n",
    "    \n",
    "    test_text = re.sub(r'([a-zA-Z])\\1{3,}', reduce_chars, test_text) #reduce characters that contain more than 3 consecutive letters into just 3 consecutive letters\n",
    "    print('\\nText after reducing character sequences >3 to 3: ',test_text)\n",
    "    \n",
    "    if len(test_text.split()) < 4: #remove tweets with less than 4 tokens\n",
    "        test_tweets = test_tweets.drop(i)\n",
    "\n",
    "    for w in re.findall(r'\\B#\\w*[a-zA-Z]+\\w*', test_text): #if the hashtagged word exists in the nltk words corpus then remove the hashtag but keep the word, if it doesn't then remove the hashtagged word completely\n",
    "        check = w.replace(\"#\", \"\")\n",
    "        if check.lower not in nltk.corpus.words.words():\n",
    "            test_text = test_text.replace(w,'')\n",
    "    test_text = test_text.replace('#','')\n",
    "    print('\\nText after removing hashtags that are not in the Reuters corpus: ',test_text)\n",
    "\n",
    "    test_text = expandContractions(test_text) #expand contractions\n",
    "    print('\\nText after expanding contraptions: ',test_text)\n",
    "\n",
    "    test_text = re.sub(\"\\$(\\w+)\",\"\",test_text) #remove ticker symbols\n",
    "    print('\\nText after removing ticker symbols: ',test_text)\n",
    "    \n",
    "\n",
    "    test_text = re.sub(\"[0-9]+\\w+\",\"\",test_text) #remove tokens containing numerical characters\n",
    "    print('\\nText after removing numerical characters: ',test_text)\n",
    "\n",
    "    \n",
    "\n",
    "    \n",
    "    \n",
    "    print('\\nClean text: ',test_text)\n",
    "    print('\\n')\n",
    "    \n",
    "    test_tweets.loc[i, 'Text'] = test_text\n",
    "    \n",
    "\n",
    "\n",
    "    "
   ]
  },
  {
   "cell_type": "markdown",
   "metadata": {},
   "source": [
    "## Datetime Processing"
   ]
  },
  {
   "cell_type": "code",
   "execution_count": 2,
   "metadata": {
    "ExecuteTime": {
     "end_time": "2021-07-15T07:25:46.343109Z",
     "start_time": "2021-07-15T07:25:29.646188Z"
    }
   },
   "outputs": [
    {
     "name": "stderr",
     "output_type": "stream",
     "text": [
      "C:\\Users\\Fivos\\anaconda3\\lib\\site-packages\\IPython\\core\\interactiveshell.py:3146: DtypeWarning: Columns (2,6) have mixed types.Specify dtype option on import or set low_memory=False.\n",
      "  has_raised = await self.run_ast_nodes(code_ast.body, cell_name,\n"
     ]
    },
    {
     "data": {
      "text/html": [
       "<div>\n",
       "<style scoped>\n",
       "    .dataframe tbody tr th:only-of-type {\n",
       "        vertical-align: middle;\n",
       "    }\n",
       "\n",
       "    .dataframe tbody tr th {\n",
       "        vertical-align: top;\n",
       "    }\n",
       "\n",
       "    .dataframe thead th {\n",
       "        text-align: right;\n",
       "    }\n",
       "</style>\n",
       "<table border=\"1\" class=\"dataframe\">\n",
       "  <thead>\n",
       "    <tr style=\"text-align: right;\">\n",
       "      <th></th>\n",
       "      <th>ID</th>\n",
       "      <th>Text</th>\n",
       "      <th>UserName</th>\n",
       "      <th>UserFollowerCount</th>\n",
       "      <th>RetweetCount</th>\n",
       "      <th>Likes</th>\n",
       "      <th>CreatedAt</th>\n",
       "    </tr>\n",
       "  </thead>\n",
       "  <tbody>\n",
       "    <tr>\n",
       "      <th>0</th>\n",
       "      <td>1.384521e+18</td>\n",
       "      <td>add into my portfolio is .We saw very good ne...</td>\n",
       "      <td>Siho</td>\n",
       "      <td>146.0</td>\n",
       "      <td>0.0</td>\n",
       "      <td>0.0</td>\n",
       "      <td>Tue Apr 20 14:55:25 +0000 2021</td>\n",
       "    </tr>\n",
       "    <tr>\n",
       "      <th>1</th>\n",
       "      <td>1.384521e+18</td>\n",
       "      <td>* DIGITAL ASSET MGMT TO LIST BITCOIN FUND ON N...</td>\n",
       "      <td>sellvolbuytesla</td>\n",
       "      <td>603.0</td>\n",
       "      <td>0.0</td>\n",
       "      <td>0.0</td>\n",
       "      <td>Tue Apr 20 14:55:25 +0000 2021</td>\n",
       "    </tr>\n",
       "    <tr>\n",
       "      <th>2</th>\n",
       "      <td>1.384521e+18</td>\n",
       "      <td>Bitcoin keeps getting rejected from many trend...</td>\n",
       "      <td>Crypto Bible</td>\n",
       "      <td>36798.0</td>\n",
       "      <td>0.0</td>\n",
       "      <td>0.0</td>\n",
       "      <td>Tue Apr 20 14:55:25 +0000 2021</td>\n",
       "    </tr>\n",
       "    <tr>\n",
       "      <th>3</th>\n",
       "      <td>1.384521e+18</td>\n",
       "      <td>:  on Venmo for  million users places more pr...</td>\n",
       "      <td>cjglory</td>\n",
       "      <td>525.0</td>\n",
       "      <td>1141.0</td>\n",
       "      <td>0.0</td>\n",
       "      <td>Tue Apr 20 14:55:24 +0000 2021</td>\n",
       "    </tr>\n",
       "    <tr>\n",
       "      <th>4</th>\n",
       "      <td>1.384521e+18</td>\n",
       "      <td>Tue Apr  ::  (:)USD : ,.: ,: ,: 1,. : 3,: , (....</td>\n",
       "      <td>Block Watcher</td>\n",
       "      <td>909.0</td>\n",
       "      <td>0.0</td>\n",
       "      <td>0.0</td>\n",
       "      <td>Tue Apr 20 14:55:24 +0000 2021</td>\n",
       "    </tr>\n",
       "    <tr>\n",
       "      <th>...</th>\n",
       "      <td>...</td>\n",
       "      <td>...</td>\n",
       "      <td>...</td>\n",
       "      <td>...</td>\n",
       "      <td>...</td>\n",
       "      <td>...</td>\n",
       "      <td>...</td>\n",
       "    </tr>\n",
       "    <tr>\n",
       "      <th>7089266</th>\n",
       "      <td>NaN</td>\n",
       "      <td>: anyone?</td>\n",
       "      <td>NaN</td>\n",
       "      <td>NaN</td>\n",
       "      <td>NaN</td>\n",
       "      <td>NaN</td>\n",
       "      <td>NaN</td>\n",
       "    </tr>\n",
       "    <tr>\n",
       "      <th>7089267</th>\n",
       "      <td>NaN</td>\n",
       "      <td>is fungible</td>\n",
       "      <td>NaN</td>\n",
       "      <td>NaN</td>\n",
       "      <td>NaN</td>\n",
       "      <td>NaN</td>\n",
       "      <td>NaN</td>\n",
       "    </tr>\n",
       "    <tr>\n",
       "      <th>7089268</th>\n",
       "      <td>NaN</td>\n",
       "      <td>AprilFoolsDay joke</td>\n",
       "      <td>NaN</td>\n",
       "      <td>NaN</td>\n",
       "      <td>NaN</td>\n",
       "      <td>NaN</td>\n",
       "      <td>NaN</td>\n",
       "    </tr>\n",
       "    <tr>\n",
       "      <th>7089269</th>\n",
       "      <td>NaN</td>\n",
       "      <td>Gained more gravity</td>\n",
       "      <td>NaN</td>\n",
       "      <td>NaN</td>\n",
       "      <td>NaN</td>\n",
       "      <td>NaN</td>\n",
       "      <td>NaN</td>\n",
       "    </tr>\n",
       "    <tr>\n",
       "      <th>7089270</th>\n",
       "      <td>NaN</td>\n",
       "      <td>Btc comeback🙏</td>\n",
       "      <td>NaN</td>\n",
       "      <td>NaN</td>\n",
       "      <td>NaN</td>\n",
       "      <td>NaN</td>\n",
       "      <td>NaN</td>\n",
       "    </tr>\n",
       "  </tbody>\n",
       "</table>\n",
       "<p>7089271 rows × 7 columns</p>\n",
       "</div>"
      ],
      "text/plain": [
       "                   ID                                               Text  \\\n",
       "0        1.384521e+18   add into my portfolio is .We saw very good ne...   \n",
       "1        1.384521e+18  * DIGITAL ASSET MGMT TO LIST BITCOIN FUND ON N...   \n",
       "2        1.384521e+18  Bitcoin keeps getting rejected from many trend...   \n",
       "3        1.384521e+18   :  on Venmo for  million users places more pr...   \n",
       "4        1.384521e+18  Tue Apr  ::  (:)USD : ,.: ,: ,: 1,. : 3,: , (....   \n",
       "...               ...                                                ...   \n",
       "7089266           NaN                                          : anyone?   \n",
       "7089267           NaN                                        is fungible   \n",
       "7089268           NaN                                 AprilFoolsDay joke   \n",
       "7089269           NaN                                Gained more gravity   \n",
       "7089270           NaN                                      Btc comeback🙏   \n",
       "\n",
       "                UserName  UserFollowerCount  RetweetCount  Likes  \\\n",
       "0                   Siho              146.0           0.0    0.0   \n",
       "1        sellvolbuytesla              603.0           0.0    0.0   \n",
       "2           Crypto Bible            36798.0           0.0    0.0   \n",
       "3                cjglory              525.0        1141.0    0.0   \n",
       "4          Block Watcher              909.0           0.0    0.0   \n",
       "...                  ...                ...           ...    ...   \n",
       "7089266              NaN                NaN           NaN    NaN   \n",
       "7089267              NaN                NaN           NaN    NaN   \n",
       "7089268              NaN                NaN           NaN    NaN   \n",
       "7089269              NaN                NaN           NaN    NaN   \n",
       "7089270              NaN                NaN           NaN    NaN   \n",
       "\n",
       "                              CreatedAt  \n",
       "0        Tue Apr 20 14:55:25 +0000 2021  \n",
       "1        Tue Apr 20 14:55:25 +0000 2021  \n",
       "2        Tue Apr 20 14:55:25 +0000 2021  \n",
       "3        Tue Apr 20 14:55:24 +0000 2021  \n",
       "4        Tue Apr 20 14:55:24 +0000 2021  \n",
       "...                                 ...  \n",
       "7089266                             NaN  \n",
       "7089267                             NaN  \n",
       "7089268                             NaN  \n",
       "7089269                             NaN  \n",
       "7089270                             NaN  \n",
       "\n",
       "[7089271 rows x 7 columns]"
      ]
     },
     "execution_count": 2,
     "metadata": {},
     "output_type": "execute_result"
    }
   ],
   "source": [
    "processed_tweets = pd.read_csv(r'C:\\Users\\Fivos\\Desktop\\Πτυχιακή\\Data Collection\\tweets_preprocessed_all.csv')\n",
    "processed_tweets"
   ]
  },
  {
   "cell_type": "code",
   "execution_count": null,
   "metadata": {
    "ExecuteTime": {
     "start_time": "2021-07-15T07:25:32.961Z"
    }
   },
   "outputs": [],
   "source": [
    "processed_tweets.isnull().sum()"
   ]
  },
  {
   "cell_type": "markdown",
   "metadata": {},
   "source": [
    "We delete the last 65000 rows because they had NaN values due to an error"
   ]
  },
  {
   "cell_type": "code",
   "execution_count": null,
   "metadata": {
    "ExecuteTime": {
     "start_time": "2021-07-15T07:25:33.830Z"
    }
   },
   "outputs": [],
   "source": [
    "processed_tweets = processed_tweets[0:7089713 - 65000]"
   ]
  },
  {
   "cell_type": "code",
   "execution_count": 35,
   "metadata": {
    "ExecuteTime": {
     "end_time": "2021-07-14T08:13:29.430301Z",
     "start_time": "2021-07-14T08:12:28.408910Z"
    }
   },
   "outputs": [],
   "source": [
    "processed_tweets.to_csv(r'C:\\Users\\Fivos\\Desktop\\Πτυχιακή\\Data Collection\\tweets_preprocessed_final.csv', header=True,index=False)"
   ]
  },
  {
   "cell_type": "code",
   "execution_count": null,
   "metadata": {
    "ExecuteTime": {
     "start_time": "2021-07-24T06:55:44.843Z"
    }
   },
   "outputs": [],
   "source": [
    "processed_tweets =  pd.read_csv(r'C:\\Users\\Fivos\\Desktop\\Πτυχιακή\\Data Collection\\tweets_preprocessed_final.csv')"
   ]
  },
  {
   "cell_type": "markdown",
   "metadata": {},
   "source": [
    "We convert the string of date to Datetime"
   ]
  },
  {
   "cell_type": "code",
   "execution_count": 3,
   "metadata": {
    "ExecuteTime": {
     "end_time": "2021-07-19T17:24:15.322413Z",
     "start_time": "2021-07-15T07:26:15.907279Z"
    }
   },
   "outputs": [
    {
     "name": "stderr",
     "output_type": "stream",
     "text": [
      "  0%|                                                                                      | 0/7024713 [00:00<?, ?it/s]<ipython-input-3-c60885713111>:4: SettingWithCopyWarning: \n",
      "A value is trying to be set on a copy of a slice from a DataFrame\n",
      "\n",
      "See the caveats in the documentation: https://pandas.pydata.org/pandas-docs/stable/user_guide/indexing.html#returning-a-view-versus-a-copy\n",
      "  processed_tweets['CreatedAt'][i] = datetime.strptime(processed_tweets['CreatedAt'][i],'%a %b %d %H:%M:%S +0000 %Y')\n",
      "100%|████████████████████████████████████████████████████████████████████| 7024713/7024713 [105:57:59<00:00, 18.41it/s]\n"
     ]
    }
   ],
   "source": [
    "for i in tqdm(range(len(processed_tweets))):\n",
    "    try:\n",
    "        processed_tweets['CreatedAt'][i] = datetime.strptime(processed_tweets['CreatedAt'][i],'%a %b %d %H:%M:%S +0000 %Y')\n",
    "    except KeyError:\n",
    "        continue"
   ]
  },
  {
   "cell_type": "code",
   "execution_count": 4,
   "metadata": {
    "ExecuteTime": {
     "end_time": "2021-07-22T19:34:16.042001Z",
     "start_time": "2021-07-22T19:32:57.325942Z"
    }
   },
   "outputs": [],
   "source": [
    "processed_tweets.to_csv(r'C:\\Users\\Fivos\\Desktop\\Πτυχιακή\\Data Collection\\tweets_preprocessed_final_datetime.csv')"
   ]
  },
  {
   "cell_type": "code",
   "execution_count": 2,
   "metadata": {
    "ExecuteTime": {
     "end_time": "2021-07-24T06:56:33.075325Z",
     "start_time": "2021-07-24T06:56:17.412569Z"
    }
   },
   "outputs": [],
   "source": [
    "processed_tweets = pd.read_csv(r'C:\\Users\\Fivos\\Desktop\\Πτυχιακή\\Data Collection\\tweets_preprocessed_final_datetime.csv')"
   ]
  },
  {
   "cell_type": "code",
   "execution_count": 3,
   "metadata": {
    "ExecuteTime": {
     "end_time": "2021-07-24T06:57:19.908378Z",
     "start_time": "2021-07-24T06:56:33.138197Z"
    }
   },
   "outputs": [
    {
     "name": "stderr",
     "output_type": "stream",
     "text": [
      "100%|████████████████████████████████████████████████████████████████████| 7024713/7024713 [00:46<00:00, 150294.43it/s]\n"
     ]
    }
   ],
   "source": [
    "dates = ['None']*len(processed_tweets)\n",
    "for i in tqdm(range(len(processed_tweets))):\n",
    "    dates[i] = processed_tweets['CreatedAt'][i][0:10]"
   ]
  },
  {
   "cell_type": "code",
   "execution_count": 4,
   "metadata": {
    "ExecuteTime": {
     "end_time": "2021-07-24T06:57:22.698866Z",
     "start_time": "2021-07-24T06:57:22.034249Z"
    }
   },
   "outputs": [],
   "source": [
    "counter=collections.Counter(dates)"
   ]
  },
  {
   "cell_type": "code",
   "execution_count": 15,
   "metadata": {
    "ExecuteTime": {
     "end_time": "2021-07-24T07:41:10.550304Z",
     "start_time": "2021-07-24T07:41:10.538302Z"
    }
   },
   "outputs": [],
   "source": [
    "keys_list = []\n",
    "keys_list = [i for i in reversed(counter.keys())]"
   ]
  },
  {
   "cell_type": "code",
   "execution_count": 17,
   "metadata": {
    "ExecuteTime": {
     "end_time": "2021-07-24T07:41:31.647159Z",
     "start_time": "2021-07-24T07:41:31.630157Z"
    }
   },
   "outputs": [],
   "source": [
    "values_list = []\n",
    "values_list = [i for i in reversed(counter.values())]"
   ]
  },
  {
   "cell_type": "code",
   "execution_count": 47,
   "metadata": {
    "ExecuteTime": {
     "end_time": "2021-07-24T08:10:02.065082Z",
     "start_time": "2021-07-24T08:10:02.053579Z"
    }
   },
   "outputs": [],
   "source": [
    "#for figure size\n",
    "plt.rcParams['figure.figsize'] = [15, 10]"
   ]
  },
  {
   "cell_type": "markdown",
   "metadata": {},
   "source": [
    "The daily Bitcoin related tweet amount is shown in the graph below"
   ]
  },
  {
   "cell_type": "code",
   "execution_count": 48,
   "metadata": {
    "ExecuteTime": {
     "end_time": "2021-07-24T08:10:04.452499Z",
     "start_time": "2021-07-24T08:10:04.128942Z"
    }
   },
   "outputs": [
    {
     "data": {
      "image/png": "[encoded data removed]",
      "text/plain": [
       "<Figure size 1080x720 with 1 Axes>"
      ]
     },
     "metadata": {
      "needs_background": "light"
     },
     "output_type": "display_data"
    }
   ],
   "source": [
    "labels = ['20/3','21/3','22/3','23/3','24/3','25/3','26/3','27/3','28/3','29/3','30/3','31/3','1/4','2/4','3/4','4/4','5/4','6/4','7/4','8/4','9/4','10/4','11/4','12/4','13/4','14/4','15/4','16/4','17/4','18/4','19/4','20/4']\n",
    "plt.bar(keys_list,values_list, width = 0.5, color = 'orange', tick_label = labels)\n",
    "plt.show()"
   ]
  },
  {
   "cell_type": "code",
   "execution_count": 49,
   "metadata": {
    "ExecuteTime": {
     "end_time": "2021-07-24T08:12:04.212660Z",
     "start_time": "2021-07-24T08:12:04.201658Z"
    }
   },
   "outputs": [
    {
     "name": "stdout",
     "output_type": "stream",
     "text": [
      "The mean daily volume of tweets is 219522.28125\n",
      "\n",
      "The Standard Deviation is 74937.71200563604\n"
     ]
    }
   ],
   "source": [
    "print('The mean daily volume of tweets is',np.mean(values_list))\n",
    "print('\\nThe Standard Deviation is',np.std(values_list))"
   ]
  }
 ],
 "metadata": {
  "kernelspec": {
   "display_name": "Python 3",
   "language": "python",
   "name": "python3"
  },
  "language_info": {
   "codemirror_mode": {
    "name": "ipython",
    "version": 3
   },
   "file_extension": ".py",
   "mimetype": "text/x-python",
   "name": "python",
   "nbconvert_exporter": "python",
   "pygments_lexer": "ipython3",
   "version": "3.8.5"
  },
  "toc": {
   "base_numbering": 1,
   "nav_menu": {},
   "number_sections": true,
   "sideBar": true,
   "skip_h1_title": false,
   "title_cell": "Table of Contents",
   "title_sidebar": "Contents",
   "toc_cell": false,
   "toc_position": {},
   "toc_section_display": true,
   "toc_window_display": false
  },
  "varInspector": {
   "cols": {
    "lenName": 16,
    "lenType": 16,
    "lenVar": 40
   },
   "kernels_config": {
    "python": {
     "delete_cmd_postfix": "",
     "delete_cmd_prefix": "del ",
     "library": "var_list.py",
     "varRefreshCmd": "print(var_dic_list())"
    },
    "r": {
     "delete_cmd_postfix": ") ",
     "delete_cmd_prefix": "rm(",
     "library": "var_list.r",
     "varRefreshCmd": "cat(var_dic_list()) "
    }
   },
   "types_to_exclude": [
    "module",
    "function",
    "builtin_function_or_method",
    "instance",
    "_Feature"
   ],
   "window_display": false
  }
 },
 "nbformat": 4,
 "nbformat_minor": 4
}
