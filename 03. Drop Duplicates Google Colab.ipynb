{
 "cells": [
  {
   "cell_type": "markdown",
   "metadata": {},
   "source": [
    "## Imports"
   ]
  },
  {
   "cell_type": "code",
   "execution_count": 4,
   "metadata": {
    "id": "5ojmoASvBCA_"
   },
   "outputs": [],
   "source": [
    "import pandas as pd\n",
    "import numpy as np\n",
    "import math"
   ]
  },
  {
   "cell_type": "markdown",
   "metadata": {},
   "source": [
    "## Drop Duplicates"
   ]
  },
  {
   "cell_type": "markdown",
   "metadata": {},
   "source": [
    "We use Google Colab for this operation instead of vanilla Jupyter Notebook because Google offers us more processing power to be able to carry out the task of removing duplicates from a dataset of 7 million rows."
   ]
  },
  {
   "cell_type": "code",
   "execution_count": 1,
   "metadata": {
    "colab": {
     "base_uri": "https://localhost:8080/"
    },
    "id": "7tHscF0mUd1z",
    "outputId": "27f4bf75-69cb-4469-91c7-908f73cc9659"
   },
   "outputs": [
    {
     "name": "stdout",
     "output_type": "stream",
     "text": [
      "Mounted at /content/drive\n"
     ]
    }
   ],
   "source": [
    "from google.colab import drive\n",
    "drive.mount('/content/drive')"
   ]
  },
  {
   "cell_type": "code",
   "execution_count": 7,
   "metadata": {
    "id": "HS_8SN7QRzLP"
   },
   "outputs": [],
   "source": [
    "path = \"/content/drive/MyDrive/results_with_dupl.csv\""
   ]
  },
  {
   "cell_type": "code",
   "execution_count": 8,
   "metadata": {
    "colab": {
     "base_uri": "https://localhost:8080/"
    },
    "id": "7EFgPPMgRzQN",
    "outputId": "38095102-6fbb-414e-d578-359a512b8b6f"
   },
   "outputs": [
    {
     "name": "stderr",
     "output_type": "stream",
     "text": [
      "/usr/local/lib/python3.7/dist-packages/IPython/core/interactiveshell.py:2718: DtypeWarning: Columns (1,4,5,6) have mixed types.Specify dtype option on import or set low_memory=False.\n",
      "  interactivity=interactivity, compiler=compiler, result=result)\n"
     ]
    }
   ],
   "source": [
    "results_with_dupl = pd.read_csv(path)"
   ]
  },
  {
   "cell_type": "code",
   "execution_count": 9,
   "metadata": {
    "colab": {
     "base_uri": "https://localhost:8080/",
     "height": 419
    },
    "id": "IlNPyts9-Dhp",
    "outputId": "fe7475c9-39f2-42d4-c916-8e17e8aaee3a"
   },
   "outputs": [
    {
     "data": {
      "text/html": [
       "<div>\n",
       "<style scoped>\n",
       "    .dataframe tbody tr th:only-of-type {\n",
       "        vertical-align: middle;\n",
       "    }\n",
       "\n",
       "    .dataframe tbody tr th {\n",
       "        vertical-align: top;\n",
       "    }\n",
       "\n",
       "    .dataframe thead th {\n",
       "        text-align: right;\n",
       "    }\n",
       "</style>\n",
       "<table border=\"1\" class=\"dataframe\">\n",
       "  <thead>\n",
       "    <tr style=\"text-align: right;\">\n",
       "      <th></th>\n",
       "      <th>Unnamed: 0</th>\n",
       "      <th>ID</th>\n",
       "      <th>Text</th>\n",
       "      <th>UserName</th>\n",
       "      <th>UserFollowerCount</th>\n",
       "      <th>RetweetCount</th>\n",
       "      <th>Likes</th>\n",
       "      <th>CreatedAt</th>\n",
       "    </tr>\n",
       "  </thead>\n",
       "  <tbody>\n",
       "    <tr>\n",
       "      <th>0</th>\n",
       "      <td>0</td>\n",
       "      <td>1384521088089079808</td>\n",
       "      <td>$CELOLatest add into my portfolio is #celo.We ...</td>\n",
       "      <td>Siho</td>\n",
       "      <td>146</td>\n",
       "      <td>0</td>\n",
       "      <td>0</td>\n",
       "      <td>Tue Apr 20 14:55:25 +0000 2021</td>\n",
       "    </tr>\n",
       "    <tr>\n",
       "      <th>1</th>\n",
       "      <td>1</td>\n",
       "      <td>1384521088038752257</td>\n",
       "      <td>*3IQ DIGITAL ASSET MGMT TO LIST BITCOIN FUND O...</td>\n",
       "      <td>sellvolbuytesla</td>\n",
       "      <td>603</td>\n",
       "      <td>0</td>\n",
       "      <td>0</td>\n",
       "      <td>Tue Apr 20 14:55:25 +0000 2021</td>\n",
       "    </tr>\n",
       "    <tr>\n",
       "      <th>2</th>\n",
       "      <td>2</td>\n",
       "      <td>1384521087912927234</td>\n",
       "      <td>Bitcoin keeps getting rejected from many trend...</td>\n",
       "      <td>Crypto Bible</td>\n",
       "      <td>36798</td>\n",
       "      <td>0</td>\n",
       "      <td>0</td>\n",
       "      <td>Tue Apr 20 14:55:25 +0000 2021</td>\n",
       "    </tr>\n",
       "    <tr>\n",
       "      <th>3</th>\n",
       "      <td>3</td>\n",
       "      <td>1384521087057203201</td>\n",
       "      <td>RT @michael_saylor: #Bitcoin on Venmo for 70 m...</td>\n",
       "      <td>cjglory</td>\n",
       "      <td>525</td>\n",
       "      <td>1141</td>\n",
       "      <td>0</td>\n",
       "      <td>Tue Apr 20 14:55:24 +0000 2021</td>\n",
       "    </tr>\n",
       "    <tr>\n",
       "      <th>4</th>\n",
       "      <td>4</td>\n",
       "      <td>1384521086369476609</td>\n",
       "      <td>Tue Apr 20 16:54:13 2021 (30:40)USD : 55,462.7...</td>\n",
       "      <td>Block Watcher</td>\n",
       "      <td>909</td>\n",
       "      <td>0</td>\n",
       "      <td>0</td>\n",
       "      <td>Tue Apr 20 14:55:24 +0000 2021</td>\n",
       "    </tr>\n",
       "    <tr>\n",
       "      <th>...</th>\n",
       "      <td>...</td>\n",
       "      <td>...</td>\n",
       "      <td>...</td>\n",
       "      <td>...</td>\n",
       "      <td>...</td>\n",
       "      <td>...</td>\n",
       "      <td>...</td>\n",
       "      <td>...</td>\n",
       "    </tr>\n",
       "    <tr>\n",
       "      <th>9082194</th>\n",
       "      <td>9082194</td>\n",
       "      <td>1373225012459671554</td>\n",
       "      <td>Current #Bitcoin Price: $58,990.52 📉</td>\n",
       "      <td>Bitcoin Price Hourly</td>\n",
       "      <td>171</td>\n",
       "      <td>0</td>\n",
       "      <td>0</td>\n",
       "      <td>Sat Mar 20 10:48:50 +0000 2021</td>\n",
       "    </tr>\n",
       "    <tr>\n",
       "      <th>9082195</th>\n",
       "      <td>9082195</td>\n",
       "      <td>1373225011268313089</td>\n",
       "      <td>RT @Sweepsgg: I’m giving $100 to one lucky fol...</td>\n",
       "      <td>loreyn</td>\n",
       "      <td>1065</td>\n",
       "      <td>1381</td>\n",
       "      <td>0</td>\n",
       "      <td>Sat Mar 20 10:48:50 +0000 2021</td>\n",
       "    </tr>\n",
       "    <tr>\n",
       "      <th>9082196</th>\n",
       "      <td>9082196</td>\n",
       "      <td>1373225006176600065</td>\n",
       "      <td>@familymoneysave And nice to see you mention b...</td>\n",
       "      <td>CutTheCrapInvesting</td>\n",
       "      <td>4172</td>\n",
       "      <td>0</td>\n",
       "      <td>0</td>\n",
       "      <td>Sat Mar 20 10:48:49 +0000 2021</td>\n",
       "    </tr>\n",
       "    <tr>\n",
       "      <th>9082197</th>\n",
       "      <td>9082197</td>\n",
       "      <td>1373225003924131842</td>\n",
       "      <td>So far so good. Next target would be 9.2usd, a...</td>\n",
       "      <td>Name cannot be blank</td>\n",
       "      <td>52</td>\n",
       "      <td>0</td>\n",
       "      <td>0</td>\n",
       "      <td>Sat Mar 20 10:48:48 +0000 2021</td>\n",
       "    </tr>\n",
       "    <tr>\n",
       "      <th>9082198</th>\n",
       "      <td>9082198</td>\n",
       "      <td>1373225003924131842</td>\n",
       "      <td>So far so good. Next target would be 9.2usd, a...</td>\n",
       "      <td>Name cannot be blank</td>\n",
       "      <td>52</td>\n",
       "      <td>0</td>\n",
       "      <td>0</td>\n",
       "      <td>Sat Mar 20 10:48:48 +0000 2021</td>\n",
       "    </tr>\n",
       "  </tbody>\n",
       "</table>\n",
       "<p>9082199 rows × 8 columns</p>\n",
       "</div>"
      ],
      "text/plain": [
       "         Unnamed: 0                   ID  ... Likes                       CreatedAt\n",
       "0                 0  1384521088089079808  ...     0  Tue Apr 20 14:55:25 +0000 2021\n",
       "1                 1  1384521088038752257  ...     0  Tue Apr 20 14:55:25 +0000 2021\n",
       "2                 2  1384521087912927234  ...     0  Tue Apr 20 14:55:25 +0000 2021\n",
       "3                 3  1384521087057203201  ...     0  Tue Apr 20 14:55:24 +0000 2021\n",
       "4                 4  1384521086369476609  ...     0  Tue Apr 20 14:55:24 +0000 2021\n",
       "...             ...                  ...  ...   ...                             ...\n",
       "9082194     9082194  1373225012459671554  ...     0  Sat Mar 20 10:48:50 +0000 2021\n",
       "9082195     9082195  1373225011268313089  ...     0  Sat Mar 20 10:48:50 +0000 2021\n",
       "9082196     9082196  1373225006176600065  ...     0  Sat Mar 20 10:48:49 +0000 2021\n",
       "9082197     9082197  1373225003924131842  ...     0  Sat Mar 20 10:48:48 +0000 2021\n",
       "9082198     9082198  1373225003924131842  ...     0  Sat Mar 20 10:48:48 +0000 2021\n",
       "\n",
       "[9082199 rows x 8 columns]"
      ]
     },
     "execution_count": 9,
     "metadata": {
      "tags": []
     },
     "output_type": "execute_result"
    }
   ],
   "source": [
    "results_with_dupl"
   ]
  },
  {
   "cell_type": "code",
   "execution_count": 10,
   "metadata": {
    "id": "3PBgv9tJ-Fp6"
   },
   "outputs": [],
   "source": [
    "results_with_dupl = results_with_dupl.loc[:, ~results_with_dupl.columns.str.contains('^Unnamed')]"
   ]
  },
  {
   "cell_type": "code",
   "execution_count": 11,
   "metadata": {
    "colab": {
     "base_uri": "https://localhost:8080/",
     "height": 419
    },
    "id": "W8OBLLMG-IjB",
    "outputId": "9cb26aa6-52e0-4087-d0a8-fd054a44a5be"
   },
   "outputs": [
    {
     "data": {
      "text/html": [
       "<div>\n",
       "<style scoped>\n",
       "    .dataframe tbody tr th:only-of-type {\n",
       "        vertical-align: middle;\n",
       "    }\n",
       "\n",
       "    .dataframe tbody tr th {\n",
       "        vertical-align: top;\n",
       "    }\n",
       "\n",
       "    .dataframe thead th {\n",
       "        text-align: right;\n",
       "    }\n",
       "</style>\n",
       "<table border=\"1\" class=\"dataframe\">\n",
       "  <thead>\n",
       "    <tr style=\"text-align: right;\">\n",
       "      <th></th>\n",
       "      <th>ID</th>\n",
       "      <th>Text</th>\n",
       "      <th>UserName</th>\n",
       "      <th>UserFollowerCount</th>\n",
       "      <th>RetweetCount</th>\n",
       "      <th>Likes</th>\n",
       "      <th>CreatedAt</th>\n",
       "    </tr>\n",
       "  </thead>\n",
       "  <tbody>\n",
       "    <tr>\n",
       "      <th>0</th>\n",
       "      <td>1384521088089079808</td>\n",
       "      <td>$CELOLatest add into my portfolio is #celo.We ...</td>\n",
       "      <td>Siho</td>\n",
       "      <td>146</td>\n",
       "      <td>0</td>\n",
       "      <td>0</td>\n",
       "      <td>Tue Apr 20 14:55:25 +0000 2021</td>\n",
       "    </tr>\n",
       "    <tr>\n",
       "      <th>1</th>\n",
       "      <td>1384521088038752257</td>\n",
       "      <td>*3IQ DIGITAL ASSET MGMT TO LIST BITCOIN FUND O...</td>\n",
       "      <td>sellvolbuytesla</td>\n",
       "      <td>603</td>\n",
       "      <td>0</td>\n",
       "      <td>0</td>\n",
       "      <td>Tue Apr 20 14:55:25 +0000 2021</td>\n",
       "    </tr>\n",
       "    <tr>\n",
       "      <th>2</th>\n",
       "      <td>1384521087912927234</td>\n",
       "      <td>Bitcoin keeps getting rejected from many trend...</td>\n",
       "      <td>Crypto Bible</td>\n",
       "      <td>36798</td>\n",
       "      <td>0</td>\n",
       "      <td>0</td>\n",
       "      <td>Tue Apr 20 14:55:25 +0000 2021</td>\n",
       "    </tr>\n",
       "    <tr>\n",
       "      <th>3</th>\n",
       "      <td>1384521087057203201</td>\n",
       "      <td>RT @michael_saylor: #Bitcoin on Venmo for 70 m...</td>\n",
       "      <td>cjglory</td>\n",
       "      <td>525</td>\n",
       "      <td>1141</td>\n",
       "      <td>0</td>\n",
       "      <td>Tue Apr 20 14:55:24 +0000 2021</td>\n",
       "    </tr>\n",
       "    <tr>\n",
       "      <th>4</th>\n",
       "      <td>1384521086369476609</td>\n",
       "      <td>Tue Apr 20 16:54:13 2021 (30:40)USD : 55,462.7...</td>\n",
       "      <td>Block Watcher</td>\n",
       "      <td>909</td>\n",
       "      <td>0</td>\n",
       "      <td>0</td>\n",
       "      <td>Tue Apr 20 14:55:24 +0000 2021</td>\n",
       "    </tr>\n",
       "    <tr>\n",
       "      <th>...</th>\n",
       "      <td>...</td>\n",
       "      <td>...</td>\n",
       "      <td>...</td>\n",
       "      <td>...</td>\n",
       "      <td>...</td>\n",
       "      <td>...</td>\n",
       "      <td>...</td>\n",
       "    </tr>\n",
       "    <tr>\n",
       "      <th>9082194</th>\n",
       "      <td>1373225012459671554</td>\n",
       "      <td>Current #Bitcoin Price: $58,990.52 📉</td>\n",
       "      <td>Bitcoin Price Hourly</td>\n",
       "      <td>171</td>\n",
       "      <td>0</td>\n",
       "      <td>0</td>\n",
       "      <td>Sat Mar 20 10:48:50 +0000 2021</td>\n",
       "    </tr>\n",
       "    <tr>\n",
       "      <th>9082195</th>\n",
       "      <td>1373225011268313089</td>\n",
       "      <td>RT @Sweepsgg: I’m giving $100 to one lucky fol...</td>\n",
       "      <td>loreyn</td>\n",
       "      <td>1065</td>\n",
       "      <td>1381</td>\n",
       "      <td>0</td>\n",
       "      <td>Sat Mar 20 10:48:50 +0000 2021</td>\n",
       "    </tr>\n",
       "    <tr>\n",
       "      <th>9082196</th>\n",
       "      <td>1373225006176600065</td>\n",
       "      <td>@familymoneysave And nice to see you mention b...</td>\n",
       "      <td>CutTheCrapInvesting</td>\n",
       "      <td>4172</td>\n",
       "      <td>0</td>\n",
       "      <td>0</td>\n",
       "      <td>Sat Mar 20 10:48:49 +0000 2021</td>\n",
       "    </tr>\n",
       "    <tr>\n",
       "      <th>9082197</th>\n",
       "      <td>1373225003924131842</td>\n",
       "      <td>So far so good. Next target would be 9.2usd, a...</td>\n",
       "      <td>Name cannot be blank</td>\n",
       "      <td>52</td>\n",
       "      <td>0</td>\n",
       "      <td>0</td>\n",
       "      <td>Sat Mar 20 10:48:48 +0000 2021</td>\n",
       "    </tr>\n",
       "    <tr>\n",
       "      <th>9082198</th>\n",
       "      <td>1373225003924131842</td>\n",
       "      <td>So far so good. Next target would be 9.2usd, a...</td>\n",
       "      <td>Name cannot be blank</td>\n",
       "      <td>52</td>\n",
       "      <td>0</td>\n",
       "      <td>0</td>\n",
       "      <td>Sat Mar 20 10:48:48 +0000 2021</td>\n",
       "    </tr>\n",
       "  </tbody>\n",
       "</table>\n",
       "<p>9082199 rows × 7 columns</p>\n",
       "</div>"
      ],
      "text/plain": [
       "                          ID  ...                       CreatedAt\n",
       "0        1384521088089079808  ...  Tue Apr 20 14:55:25 +0000 2021\n",
       "1        1384521088038752257  ...  Tue Apr 20 14:55:25 +0000 2021\n",
       "2        1384521087912927234  ...  Tue Apr 20 14:55:25 +0000 2021\n",
       "3        1384521087057203201  ...  Tue Apr 20 14:55:24 +0000 2021\n",
       "4        1384521086369476609  ...  Tue Apr 20 14:55:24 +0000 2021\n",
       "...                      ...  ...                             ...\n",
       "9082194  1373225012459671554  ...  Sat Mar 20 10:48:50 +0000 2021\n",
       "9082195  1373225011268313089  ...  Sat Mar 20 10:48:50 +0000 2021\n",
       "9082196  1373225006176600065  ...  Sat Mar 20 10:48:49 +0000 2021\n",
       "9082197  1373225003924131842  ...  Sat Mar 20 10:48:48 +0000 2021\n",
       "9082198  1373225003924131842  ...  Sat Mar 20 10:48:48 +0000 2021\n",
       "\n",
       "[9082199 rows x 7 columns]"
      ]
     },
     "execution_count": 11,
     "metadata": {
      "tags": []
     },
     "output_type": "execute_result"
    }
   ],
   "source": [
    "results_with_dupl"
   ]
  },
  {
   "cell_type": "markdown",
   "metadata": {},
   "source": [
    "We remove duplicate rows using the ID field as a key, because it is unique to every row (except from duplicate rows)"
   ]
  },
  {
   "cell_type": "code",
   "execution_count": 12,
   "metadata": {
    "id": "u32mdyTa-K-j"
   },
   "outputs": [],
   "source": [
    "results = results_with_dupl.drop_duplicates('ID')"
   ]
  },
  {
   "cell_type": "code",
   "execution_count": 13,
   "metadata": {
    "colab": {
     "base_uri": "https://localhost:8080/",
     "height": 419
    },
    "id": "kNla2k72-TRm",
    "outputId": "529ad6d7-63d4-478f-b051-3a786e39b4ca"
   },
   "outputs": [
    {
     "data": {
      "text/html": [
       "<div>\n",
       "<style scoped>\n",
       "    .dataframe tbody tr th:only-of-type {\n",
       "        vertical-align: middle;\n",
       "    }\n",
       "\n",
       "    .dataframe tbody tr th {\n",
       "        vertical-align: top;\n",
       "    }\n",
       "\n",
       "    .dataframe thead th {\n",
       "        text-align: right;\n",
       "    }\n",
       "</style>\n",
       "<table border=\"1\" class=\"dataframe\">\n",
       "  <thead>\n",
       "    <tr style=\"text-align: right;\">\n",
       "      <th></th>\n",
       "      <th>ID</th>\n",
       "      <th>Text</th>\n",
       "      <th>UserName</th>\n",
       "      <th>UserFollowerCount</th>\n",
       "      <th>RetweetCount</th>\n",
       "      <th>Likes</th>\n",
       "      <th>CreatedAt</th>\n",
       "    </tr>\n",
       "  </thead>\n",
       "  <tbody>\n",
       "    <tr>\n",
       "      <th>0</th>\n",
       "      <td>1384521088089079808</td>\n",
       "      <td>$CELOLatest add into my portfolio is #celo.We ...</td>\n",
       "      <td>Siho</td>\n",
       "      <td>146</td>\n",
       "      <td>0</td>\n",
       "      <td>0</td>\n",
       "      <td>Tue Apr 20 14:55:25 +0000 2021</td>\n",
       "    </tr>\n",
       "    <tr>\n",
       "      <th>1</th>\n",
       "      <td>1384521088038752257</td>\n",
       "      <td>*3IQ DIGITAL ASSET MGMT TO LIST BITCOIN FUND O...</td>\n",
       "      <td>sellvolbuytesla</td>\n",
       "      <td>603</td>\n",
       "      <td>0</td>\n",
       "      <td>0</td>\n",
       "      <td>Tue Apr 20 14:55:25 +0000 2021</td>\n",
       "    </tr>\n",
       "    <tr>\n",
       "      <th>2</th>\n",
       "      <td>1384521087912927234</td>\n",
       "      <td>Bitcoin keeps getting rejected from many trend...</td>\n",
       "      <td>Crypto Bible</td>\n",
       "      <td>36798</td>\n",
       "      <td>0</td>\n",
       "      <td>0</td>\n",
       "      <td>Tue Apr 20 14:55:25 +0000 2021</td>\n",
       "    </tr>\n",
       "    <tr>\n",
       "      <th>3</th>\n",
       "      <td>1384521087057203201</td>\n",
       "      <td>RT @michael_saylor: #Bitcoin on Venmo for 70 m...</td>\n",
       "      <td>cjglory</td>\n",
       "      <td>525</td>\n",
       "      <td>1141</td>\n",
       "      <td>0</td>\n",
       "      <td>Tue Apr 20 14:55:24 +0000 2021</td>\n",
       "    </tr>\n",
       "    <tr>\n",
       "      <th>4</th>\n",
       "      <td>1384521086369476609</td>\n",
       "      <td>Tue Apr 20 16:54:13 2021 (30:40)USD : 55,462.7...</td>\n",
       "      <td>Block Watcher</td>\n",
       "      <td>909</td>\n",
       "      <td>0</td>\n",
       "      <td>0</td>\n",
       "      <td>Tue Apr 20 14:55:24 +0000 2021</td>\n",
       "    </tr>\n",
       "    <tr>\n",
       "      <th>...</th>\n",
       "      <td>...</td>\n",
       "      <td>...</td>\n",
       "      <td>...</td>\n",
       "      <td>...</td>\n",
       "      <td>...</td>\n",
       "      <td>...</td>\n",
       "      <td>...</td>\n",
       "    </tr>\n",
       "    <tr>\n",
       "      <th>9082192</th>\n",
       "      <td>1373225013529210882</td>\n",
       "      <td>@hi_yo_ku @techAU I didn't think it would work...</td>\n",
       "      <td>Jesse Spencer</td>\n",
       "      <td>16</td>\n",
       "      <td>0</td>\n",
       "      <td>0</td>\n",
       "      <td>Sat Mar 20 10:48:51 +0000 2021</td>\n",
       "    </tr>\n",
       "    <tr>\n",
       "      <th>9082193</th>\n",
       "      <td>1373225012459671554</td>\n",
       "      <td>Current #Bitcoin Price: $58,990.52 📉</td>\n",
       "      <td>Bitcoin Price Hourly</td>\n",
       "      <td>171</td>\n",
       "      <td>0</td>\n",
       "      <td>0</td>\n",
       "      <td>Sat Mar 20 10:48:50 +0000 2021</td>\n",
       "    </tr>\n",
       "    <tr>\n",
       "      <th>9082195</th>\n",
       "      <td>1373225011268313089</td>\n",
       "      <td>RT @Sweepsgg: I’m giving $100 to one lucky fol...</td>\n",
       "      <td>loreyn</td>\n",
       "      <td>1065</td>\n",
       "      <td>1381</td>\n",
       "      <td>0</td>\n",
       "      <td>Sat Mar 20 10:48:50 +0000 2021</td>\n",
       "    </tr>\n",
       "    <tr>\n",
       "      <th>9082196</th>\n",
       "      <td>1373225006176600065</td>\n",
       "      <td>@familymoneysave And nice to see you mention b...</td>\n",
       "      <td>CutTheCrapInvesting</td>\n",
       "      <td>4172</td>\n",
       "      <td>0</td>\n",
       "      <td>0</td>\n",
       "      <td>Sat Mar 20 10:48:49 +0000 2021</td>\n",
       "    </tr>\n",
       "    <tr>\n",
       "      <th>9082197</th>\n",
       "      <td>1373225003924131842</td>\n",
       "      <td>So far so good. Next target would be 9.2usd, a...</td>\n",
       "      <td>Name cannot be blank</td>\n",
       "      <td>52</td>\n",
       "      <td>0</td>\n",
       "      <td>0</td>\n",
       "      <td>Sat Mar 20 10:48:48 +0000 2021</td>\n",
       "    </tr>\n",
       "  </tbody>\n",
       "</table>\n",
       "<p>7089714 rows × 7 columns</p>\n",
       "</div>"
      ],
      "text/plain": [
       "                          ID  ...                       CreatedAt\n",
       "0        1384521088089079808  ...  Tue Apr 20 14:55:25 +0000 2021\n",
       "1        1384521088038752257  ...  Tue Apr 20 14:55:25 +0000 2021\n",
       "2        1384521087912927234  ...  Tue Apr 20 14:55:25 +0000 2021\n",
       "3        1384521087057203201  ...  Tue Apr 20 14:55:24 +0000 2021\n",
       "4        1384521086369476609  ...  Tue Apr 20 14:55:24 +0000 2021\n",
       "...                      ...  ...                             ...\n",
       "9082192  1373225013529210882  ...  Sat Mar 20 10:48:51 +0000 2021\n",
       "9082193  1373225012459671554  ...  Sat Mar 20 10:48:50 +0000 2021\n",
       "9082195  1373225011268313089  ...  Sat Mar 20 10:48:50 +0000 2021\n",
       "9082196  1373225006176600065  ...  Sat Mar 20 10:48:49 +0000 2021\n",
       "9082197  1373225003924131842  ...  Sat Mar 20 10:48:48 +0000 2021\n",
       "\n",
       "[7089714 rows x 7 columns]"
      ]
     },
     "execution_count": 13,
     "metadata": {
      "tags": []
     },
     "output_type": "execute_result"
    }
   ],
   "source": [
    "results"
   ]
  },
  {
   "cell_type": "code",
   "execution_count": 15,
   "metadata": {
    "id": "6Ch4wrZUm9Kv"
   },
   "outputs": [],
   "source": [
    "results.to_csv('/content/drive/MyDrive/results.csv')"
   ]
  },
  {
   "cell_type": "code",
   "execution_count": 16,
   "metadata": {
    "colab": {
     "base_uri": "https://localhost:8080/"
    },
    "id": "AVU5VTTGn6nI",
    "outputId": "4bd03a04-3711-4751-e029-c10b62e9b821"
   },
   "outputs": [
    {
     "data": {
      "text/plain": [
       "ID                     0\n",
       "Text                   0\n",
       "UserName             443\n",
       "UserFollowerCount      0\n",
       "RetweetCount           0\n",
       "Likes                  0\n",
       "CreatedAt              0\n",
       "dtype: int64"
      ]
     },
     "execution_count": 16,
     "metadata": {
      "tags": []
     },
     "output_type": "execute_result"
    }
   ],
   "source": [
    "results.isnull().sum()"
   ]
  }
 ],
 "metadata": {
  "colab": {
   "name": "Data Merging Part 2.ipynb",
   "provenance": []
  },
  "kernelspec": {
   "display_name": "Python 3",
   "language": "python",
   "name": "python3"
  },
  "language_info": {
   "codemirror_mode": {
    "name": "ipython",
    "version": 3
   },
   "file_extension": ".py",
   "mimetype": "text/x-python",
   "name": "python",
   "nbconvert_exporter": "python",
   "pygments_lexer": "ipython3",
   "version": "3.8.5"
  },
  "toc": {
   "base_numbering": 1,
   "nav_menu": {},
   "number_sections": true,
   "sideBar": true,
   "skip_h1_title": false,
   "title_cell": "Table of Contents",
   "title_sidebar": "Contents",
   "toc_cell": false,
   "toc_position": {},
   "toc_section_display": true,
   "toc_window_display": false
  },
  "varInspector": {
   "cols": {
    "lenName": 16,
    "lenType": 16,
    "lenVar": 40
   },
   "kernels_config": {
    "python": {
     "delete_cmd_postfix": "",
     "delete_cmd_prefix": "del ",
     "library": "var_list.py",
     "varRefreshCmd": "print(var_dic_list())"
    },
    "r": {
     "delete_cmd_postfix": ") ",
     "delete_cmd_prefix": "rm(",
     "library": "var_list.r",
     "varRefreshCmd": "cat(var_dic_list()) "
    }
   },
   "types_to_exclude": [
    "module",
    "function",
    "builtin_function_or_method",
    "instance",
    "_Feature"
   ],
   "window_display": false
  }
 },
 "nbformat": 4,
 "nbformat_minor": 1
}
